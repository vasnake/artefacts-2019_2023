{
 "cells": [
  {
   "cell_type": "markdown",
   "metadata": {},
   "source": [
    "### Make sure to use Python3, since it has natural order in dictionaries"
   ]
  },
  {
   "cell_type": "code",
   "execution_count": 2,
   "metadata": {},
   "outputs": [
    {
     "name": "stdout",
     "output_type": "stream",
     "text": [
      "/data/anaconda3/bin/python\n"
     ]
    }
   ],
   "source": [
    "import sys\n",
    "\n",
    "print(sys.executable)"
   ]
  },
  {
   "cell_type": "code",
   "execution_count": null,
   "metadata": {},
   "outputs": [],
   "source": []
  },
  {
   "cell_type": "markdown",
   "metadata": {},
   "source": [
    "### Control client"
   ]
  },
  {
   "cell_type": "code",
   "execution_count": 3,
   "metadata": {},
   "outputs": [],
   "source": [
    "import requests\n",
    "\n",
    "from requests_kerberos import HTTPKerberosAuth, DISABLED\n",
    "from requests.status_codes import codes\n",
    "\n",
    "\n",
    "class ControlClient:\n",
    "    _RESULTS = \"results\"\n",
    "    _COUNT = \"count\"\n",
    "    _PAGE_SIZE = \"page_size\"\n",
    "\n",
    "    def __init__(self, base_url):\n",
    "        self.base_url = base_url\n",
    "        self._auth = HTTPKerberosAuth(mutual_authentication=DISABLED)\n",
    "\n",
    "    def get(self, url, **kwargs):\n",
    "        return self._request('get', url, **kwargs)\n",
    "\n",
    "    def get_object_by_name(self, url, name, to_field=\"name\", **kwargs):\n",
    "        if \"params\" not in kwargs:\n",
    "            kwargs[\"params\"] = {}\n",
    "        params = {to_field: name, self._PAGE_SIZE: 1}\n",
    "        kwargs[\"params\"].update(**params)\n",
    "\n",
    "        response = self.get(url, **kwargs)\n",
    "\n",
    "        if response.status_code != codes.ALL_OK:\n",
    "            raise ValueError(\"Invalid request: {}\".format(response.text))\n",
    "\n",
    "        try:\n",
    "            parsed = response.json()\n",
    "        except Exception as e:\n",
    "            raise ValueError(\n",
    "                \"Got invalid json from response: {}. \"\n",
    "                \"Original response test: {}\".format(e, response.text)\n",
    "            )\n",
    "\n",
    "        if parsed[self._COUNT] == 0:\n",
    "            raise ValueError(\"Object with name '{}' does not exist.\".format(name))\n",
    "\n",
    "        if parsed[self._COUNT] > 1:\n",
    "            raise ValueError(\"Got multiple objects with name '{}'.\".format(name))\n",
    "\n",
    "        return parsed[self._RESULTS][0]\n",
    "\n",
    "    def post(self, url, **kwargs):\n",
    "        return self._request('post', url, **kwargs)\n",
    "\n",
    "    def patch(self, url, **kwargs):\n",
    "        return self._request('patch', url, **kwargs)\n",
    "\n",
    "    def delete(self, url, **kwargs):\n",
    "        return self._request('delete', url, **kwargs)\n",
    "\n",
    "    def _request(self, method, url, **kwargs):\n",
    "        # cast absolute to relative\n",
    "        if url.startswith(\"/\"):\n",
    "            url = url[1:]\n",
    "\n",
    "        full_url = requests.compat.urljoin(self.base_url, url)\n",
    "        kwargs['auth'] = self._auth\n",
    "        try:\n",
    "            return requests.request(method, full_url, **kwargs)\n",
    "        except Exception as e:\n",
    "            raise ValueError(\n",
    "                \"Got error making HTTP {} request \"\n",
    "                \"on url '{}', original error message: {}.\".format(method.upper(), full_url, e)\n",
    "            )\n",
    "\n",
    "\n",
    "cc = ControlClient(\"http://dmcontrol.host/api/\")\n",
    "cc_dev = ControlClient(\"http://dmcontrol-dev.host/api/\")"
   ]
  },
  {
   "cell_type": "code",
   "execution_count": null,
   "metadata": {},
   "outputs": [],
   "source": []
  },
  {
   "cell_type": "markdown",
   "metadata": {},
   "source": [
    "### Basic tools for migrations"
   ]
  },
  {
   "cell_type": "code",
   "execution_count": 4,
   "metadata": {},
   "outputs": [],
   "source": [
    "import os\n",
    "import dill\n",
    "import tqdm\n",
    "import datetime\n",
    "import subprocess\n",
    "\n",
    "\n",
    "class MigrationUtils(object):\n",
    "\n",
    "    def __init__(self, prod=False, migration_id=None):\n",
    "        migration_id = migration_id or datetime.datetime.now().strftime(\"%Y%m%d%H%M%S%f\")\n",
    "        self._xapp_cache = {}\n",
    "\n",
    "        if prod:\n",
    "            self.client = ControlClient(\"http://dmcontrol.host/api/\")\n",
    "            self._ctid = \"ctid__prod_{}\"\n",
    "            self._filepath = \"migration_prod_{}\".format(migration_id)\n",
    "        else:\n",
    "            self.client = ControlClient(\"http://dmcontrol-dev.host/api/\")\n",
    "            self._ctid = \"ctid__dev_{}\"\n",
    "            self._filepath = \"migration_dev_{}\".format(migration_id)\n",
    "\n",
    "    @staticmethod\n",
    "    def check_response(r, status):\n",
    "        if r.status_code != status:\n",
    "            raise Exception(\n",
    "                \"Bad request for url={} - status={}, reason='{}'\".format(r.url, r.status_code, r.reason)\n",
    "            )\n",
    "\n",
    "    def get_user_projects(self):\n",
    "        response = self.client.get(url=\"compose/project/\", params={\"page_size\": 1000000})\n",
    "        self.check_response(response, 200)\n",
    "        projects = response.json()[\"results\"]\n",
    "\n",
    "        response = self.client.get(url=\"target/portrait/\", params={\"page_size\": 1000000})\n",
    "        self.check_response(response, 200)\n",
    "        portraits = response.json()[\"results\"]\n",
    "\n",
    "        response = self.client.get(url=\"target/lookalike/\", params={\"page_size\": 1000000})\n",
    "        self.check_response(response, 200)\n",
    "        lookalikes = response.json()[\"results\"]\n",
    "\n",
    "        response = self.client.get(url=\"target/sales_report/\", params={\"page_size\": 1000000})\n",
    "        self.check_response(response, 200)\n",
    "        sales_reports = response.json()[\"results\"]\n",
    "\n",
    "        managed_project_names = set.union(\n",
    "            set(_[\"project\"] for _ in portraits),\n",
    "            set(_[\"project\"] for _ in lookalikes),\n",
    "            set(_[\"project\"] for _ in sales_reports)\n",
    "        )\n",
    "\n",
    "        return [p for p in projects if p[\"name\"] not in managed_project_names]\n",
    "\n",
    "    def disable_projects(self, projects):\n",
    "        if os.path.exists(self._filepath):\n",
    "            raise AssertionError(\"Migration file '{}' already exists\".format(self._filepath))\n",
    "\n",
    "        enabled_project_ids = []\n",
    "\n",
    "        for p in tqdm.tqdm_notebook(projects, total=len(projects)):\n",
    "            if p[\"enabled\"]:\n",
    "                enabled_project_ids.append(p[\"id\"])\n",
    "                response = self.client.patch(url=\"compose/project/{}/\".format(p[\"id\"]), json={\"enabled\": False})\n",
    "                self.check_response(response, 200)\n",
    "\n",
    "        print(\"There was {} enabled projects\".format(len(enabled_project_ids)))\n",
    "\n",
    "        with open(self._filepath, \"wb\") as fd:\n",
    "            dill.dump(enabled_project_ids, fd)\n",
    "\n",
    "    def enable_projects(self, project_ids=None):\n",
    "        if project_ids is None:\n",
    "            with open(self._filepath, \"rb\") as fd:\n",
    "                project_ids = dill.load(fd)\n",
    "\n",
    "        for p_id in tqdm.tqdm_notebook(project_ids, total=len(project_ids)):\n",
    "            response = self.client.patch(url=\"compose/project/{}/\".format(p_id), json={\"enabled\": True})\n",
    "            self.check_response(response, 200)\n",
    "\n",
    "    def update_pipelines(self, project_name, kill_in_yarn=True):\n",
    "        if kill_in_yarn:\n",
    "            response = self.client.get(\n",
    "                url=\"compose/jobrun/\",\n",
    "                params={\"project\": project_name, \"status\": \"running\", \"page_size\": 1000000}\n",
    "            )\n",
    "            self.check_response(response, 200)\n",
    "\n",
    "            for jobrun in response.json()[\"results\"]:\n",
    "                self.kill_yarn_apps(ctid=self._ctid.format(jobrun[\"task\"]))\n",
    "\n",
    "        response = self.client.get(\n",
    "            url=\"compose/pipeline/\",\n",
    "            params={\"project\": project_name, \"page_size\": 1000000}\n",
    "        )\n",
    "        self.check_response(response, 200)\n",
    "\n",
    "        for pipeline in response.json()[\"results\"]:\n",
    "            if pipeline[\"status\"] in {\"pending\", \"running\"}:\n",
    "                response = self.client.delete(url=\"compose/pipeline/{}/\".format(pipeline[\"id\"]))\n",
    "                self.check_response(response, 204)\n",
    "\n",
    "                response = self.client.post(\n",
    "                    url=\"compose/pipeline/\",\n",
    "                    json={\n",
    "                        \"project\": project_name,\n",
    "                        \"tag\": pipeline[\"tag\"],\n",
    "                        \"patch\": pipeline[\"patch\"],\n",
    "                        \"force\": pipeline[\"force\"],\n",
    "                        \"keep\": pipeline[\"keep\"]\n",
    "                    }\n",
    "                )\n",
    "                self.check_response(response, 201)\n",
    "\n",
    "    @staticmethod\n",
    "    def kill_yarn_apps(ctid):\n",
    "        all_apps = subprocess.Popen([\"yarn\", \"application\", \"-list\"], stdout=subprocess.PIPE)\n",
    "        p = subprocess.Popen(\n",
    "            [\"grep\", ctid], stdin=all_apps.stdout, stdout=subprocess.PIPE, stderr=subprocess.PIPE\n",
    "        )\n",
    "        _stdout, _stderr = p.communicate()\n",
    "        _stdout = _stdout.strip().decode(\"utf-8\")\n",
    "        if _stdout:\n",
    "            for row in _stdout.split(\"\\n\"):\n",
    "                app_id = row.strip().split(\"\\t\")[0].strip()\n",
    "                cmd = [\"yarn\", \"application\", \"-kill\", app_id]\n",
    "                p = subprocess.Popen(cmd, stdout=subprocess.PIPE, stderr=subprocess.PIPE)\n",
    "                _stdout, _stderr = p.communicate()\n",
    "                print(\n",
    "                    \"COMMAND: {}\\n\\tSTDOUT: {}\\tSTDERR: {}\\tRETURN CODE: {}\".format(\n",
    "                        \" \".join(cmd), _stdout, _stderr, p.returncode\n",
    "                    )\n",
    "                )\n",
    "\n",
    "    def prettify_job_config(self, job):\n",
    "        \"\"\"Just reorder top-level job parameters.\"\"\"\n",
    "        xapp = self._xapp_cache.get(job[\"xapp\"])\n",
    "\n",
    "        if xapp is None:\n",
    "            response = self.client.get(url=\"compose/xapp/\", params={\"name\": job[\"xapp\"]})\n",
    "            self.check_response(response, 200)\n",
    "            xapp = response.json()[\"results\"][0]\n",
    "            self._xapp_cache[job[\"xapp\"]] = xapp\n",
    "\n",
    "        job_config = {}\n",
    "\n",
    "        for param_name, param_type in xapp[\"config\"][\"schema\"][\"properties\"].items():\n",
    "            if param_name in job[\"config\"]:\n",
    "                job_config[param_name] = job[\"config\"][param_name]\n",
    "            elif \"default\" not in param_type:  # Doesn't work with $defs yet\n",
    "                raise ValueError(\n",
    "                    \"There is no mandatory parameter '{}' in job for Xapp='{}'\".format(param_name, job[\"xapp\"])\n",
    "                )\n",
    "\n",
    "        return job_config"
   ]
  },
  {
   "cell_type": "code",
   "execution_count": null,
   "metadata": {},
   "outputs": [],
   "source": []
  },
  {
   "cell_type": "markdown",
   "metadata": {},
   "source": [
    "## Migration steps"
   ]
  },
  {
   "cell_type": "code",
   "execution_count": null,
   "metadata": {},
   "outputs": [],
   "source": []
  },
  {
   "cell_type": "code",
   "execution_count": 5,
   "metadata": {},
   "outputs": [],
   "source": [
    "# Create migration instance\n",
    "# migration = MigrationUtils(prod=True)"
   ]
  },
  {
   "cell_type": "code",
   "execution_count": 6,
   "metadata": {},
   "outputs": [
    {
     "name": "stdout",
     "output_type": "stream",
     "text": [
      "621\n"
     ]
    }
   ],
   "source": [
    "# Get all user-defined projects\n",
    "user_projects = migration.get_user_projects()\n",
    "print(len(user_projects))"
   ]
  },
  {
   "cell_type": "code",
   "execution_count": 12,
   "metadata": {},
   "outputs": [],
   "source": [
    "# TODO: add dry-run mode\n",
    "# TODO: add rollback option: snapshot(), restore(snapshot)\n",
    "# TODO: tqdm dependency should be soft"
   ]
  },
  {
   "cell_type": "markdown",
   "metadata": {},
   "source": [
    "### I. Switch off\n",
    "Manual actions:\n",
    "0. Remember (write down ids) originally enabled managers (https://dmcontrol-dev.host/admin/target/targetmanagermodel/).\n",
    "1. For all managers - set `project.enabled: false` in manager config (e.g https://dmcontrol-dev.host/admin/target/targetmanagermodel/5/change/#/tab/module_1/).\n",
    "2. Sync (sync connected ... GO).\n",
    "3. Switch off (disable) managers.\n",
    "4. Start code below to switch off all user projects.\n",
    "\n",
    "There must be also a flag from https://jira.host/browse/TRG-72710 (https://dmcontrol.host/admin/compose/settingmodel/ `ENGINEERING_WORK: true`)"
   ]
  },
  {
   "cell_type": "code",
   "execution_count": null,
   "metadata": {},
   "outputs": [],
   "source": []
  },
  {
   "cell_type": "code",
   "execution_count": 8,
   "metadata": {},
   "outputs": [
    {
     "data": {
      "application/vnd.jupyter.widget-view+json": {
       "model_id": "f15b0c0e0c554099bf2c2e47ac991cad",
       "version_major": 2,
       "version_minor": 0
      },
      "text/plain": [
       "HBox(children=(IntProgress(value=0, max=621), HTML(value='')))"
      ]
     },
     "metadata": {},
     "output_type": "display_data"
    },
    {
     "name": "stdout",
     "output_type": "stream",
     "text": [
      "\n",
      "There was 529 enabled projects\n"
     ]
    }
   ],
   "source": [
    "migration.disable_projects(user_projects)"
   ]
  },
  {
   "cell_type": "code",
   "execution_count": null,
   "metadata": {},
   "outputs": [],
   "source": []
  },
  {
   "cell_type": "markdown",
   "metadata": {},
   "source": [
    "### II. Migration\n",
    "Manual actions:\n",
    "1. Merge prj git branch (to dev or to master).\n",
    "2. Update Xapp schemas in Control.\n",
    "3. Start migration for user projects (run code below).\n",
    "4. Update target manager configs in Control; Sync ... GO.\n",
    "5. Start update pipelines for managed projects related to TargetObjects at non-terminal status (code below).  "
   ]
  },
  {
   "cell_type": "code",
   "execution_count": 9,
   "metadata": {},
   "outputs": [],
   "source": [
    "# Get new config for a single project.\n",
    "# Here is an essence of migration.\n",
    "\n",
    "import os\n",
    "import copy\n",
    "\n",
    "# TODO: add checks, new values should be not empty, etc.\n",
    "def get_new_config(project_config):\n",
    "    \"\"\"It is specifically for current migration changes.\"\"\"\n",
    "\n",
    "    project_config = copy.deepcopy(project_config)\n",
    "\n",
    "    for job_name, job in project_config[\"jobs\"].items():\n",
    "\n",
    "        if job[\"xapp\"] == \"Apply\":\n",
    "            job[\"config\"].pop(\"source_dt\", None)\n",
    "\n",
    "        elif job[\"xapp\"] == \"CombineAdFeatures\":\n",
    "            max_dt_diff = job[\"config\"].pop(\"max_dt_diff\", None)\n",
    "\n",
    "            if max_dt_diff is not None:\n",
    "                job[\"config\"][\"period\"] = max_dt_diff + 1\n",
    "                job[\"config\"][\"dt_selection_mode\"] = \"single_last\"\n",
    "            # Else we degrade to new defaults, i.e. ~ max_dt_diff=0, just because we can\n",
    "\n",
    "        elif job[\"xapp\"] == \"CombineUniversalFeatures\":\n",
    "            job[\"config\"][\"period\"] = job[\"config\"].pop(\"max_dt_diff\") + 1\n",
    "            job[\"config\"][\"dt_selection_mode\"] = \"single_last\"\n",
    "\n",
    "        elif job[\"xapp\"] == \"ExportAdFeatures\":\n",
    "            target_hdfs_basedir = job[\"config\"].pop(\"target_hdfs_basedir\")\n",
    "            job[\"config\"][\"features_subdir\"] = os.path.basename(os.path.normpath(target_hdfs_basedir))\n",
    "            \n",
    "            features = job[\"config\"][\"export_columns\"].pop(\"features\")\n",
    "            job[\"config\"][\"export_columns\"][\"features\"] = [\n",
    "                {\"name\": name, \"expr\": expr} for name, expr in features.items()\n",
    "            ]\n",
    "\n",
    "        elif job[\"xapp\"] == \"ExportAudienceRb\":\n",
    "            job[\"config\"].pop(\"target_hdfs_basedir\")\n",
    "\n",
    "        elif job[\"xapp\"] == \"ExportAudienceTrg\":\n",
    "            job[\"config\"].pop(\"target_hdfs_basedir\")\n",
    "\n",
    "            # Current projects only win because of this\n",
    "            job[\"config\"].pop(\"min_score\", None)\n",
    "            job[\"config\"].pop(\"max_score\", None)\n",
    "\n",
    "        elif job[\"xapp\"] == \"ExportUniversalFeatures\":\n",
    "            job[\"config\"].pop(\"target_hdfs_basedir\")\n",
    "\n",
    "            feature_name = job[\"config\"].pop(\"feature_name\")\n",
    "            job[\"config\"][\"features_subdir\"] = feature_name\n",
    "            job[\"config\"][\"export_columns\"][\"features\"] = [\n",
    "                {\"name\": feature_name, \"expr\": job[\"config\"][\"export_columns\"].pop(\"feature\")}\n",
    "            ]\n",
    "\n",
    "        elif job[\"xapp\"] == \"CustomFinder\":\n",
    "            for _, segment_config in job[\"config\"][\"audience\"][\"segments\"].items():\n",
    "                # It is better to set it explicitly\n",
    "                segment_config[\"period\"] = segment_config.get(\"period\", 1)\n",
    "\n",
    "                if segment_config.pop(\"only_last_dt\", False):\n",
    "                    segment_config[\"dt_selection_mode\"] = \"single_last\"\n",
    "                else:\n",
    "                    segment_config[\"dt_selection_mode\"] = \"multiple_any\"\n",
    "\n",
    "        # Final config prettification\n",
    "        job[\"config\"] = migration.prettify_job_config(job)\n",
    "\n",
    "    return project_config"
   ]
  },
  {
   "cell_type": "code",
   "execution_count": null,
   "metadata": {},
   "outputs": [],
   "source": []
  },
  {
   "cell_type": "code",
   "execution_count": 10,
   "metadata": {},
   "outputs": [
    {
     "data": {
      "application/vnd.jupyter.widget-view+json": {
       "model_id": "adf1117acd814307ac8e3b4fd8049ef9",
       "version_major": 2,
       "version_minor": 0
      },
      "text/plain": [
       "HBox(children=(IntProgress(value=0, max=621), HTML(value='')))"
      ]
     },
     "metadata": {},
     "output_type": "display_data"
    },
    {
     "name": "stdout",
     "output_type": "stream",
     "text": [
      "COMMAND: yarn application -kill application_1638133298630_25555\n",
      "\tSTDOUT: b'Killing application application_1638133298630_25555\\n'\tSTDERR: b'21/12/01 16:06:38 INFO client.AHSProxy: Connecting to Application History server at rbhp-control5.rbdev.mail.ru/10.123.0.19:10200\\n21/12/01 16:06:38 INFO impl.YarnClientImpl: Killed application application_1638133298630_25555\\n'\tRETURN CODE: 0\n",
      "COMMAND: yarn application -kill application_1638133298630_25972\n",
      "\tSTDOUT: b'Killing application application_1638133298630_25972\\n'\tSTDERR: b'21/12/01 16:06:42 INFO client.AHSProxy: Connecting to Application History server at rbhp-control5.rbdev.mail.ru/10.123.0.19:10200\\n21/12/01 16:06:43 INFO impl.YarnClientImpl: Killed application application_1638133298630_25972\\n'\tRETURN CODE: 0\n",
      "COMMAND: yarn application -kill application_1638133298630_25695\n",
      "\tSTDOUT: b'Killing application application_1638133298630_25695\\n'\tSTDERR: b'21/12/01 16:07:35 INFO client.AHSProxy: Connecting to Application History server at rbhp-control5.rbdev.mail.ru/10.123.0.19:10200\\n21/12/01 16:07:36 INFO impl.YarnClientImpl: Killed application application_1638133298630_25695\\n'\tRETURN CODE: 0\n",
      "COMMAND: yarn application -kill application_1638133298630_25357\n",
      "\tSTDOUT: b'Killing application application_1638133298630_25357\\n'\tSTDERR: b'21/12/01 16:08:11 INFO client.AHSProxy: Connecting to Application History server at rbhp-control5.rbdev.mail.ru/10.123.0.19:10200\\n21/12/01 16:08:12 INFO impl.YarnClientImpl: Killed application application_1638133298630_25357\\n'\tRETURN CODE: 0\n",
      "COMMAND: yarn application -kill application_1638133298630_24070\n",
      "\tSTDOUT: b'Killing application application_1638133298630_24070\\n'\tSTDERR: b'21/12/01 16:08:22 INFO client.AHSProxy: Connecting to Application History server at rbhp-control5.rbdev.mail.ru/10.123.0.19:10200\\n21/12/01 16:08:22 INFO impl.YarnClientImpl: Killed application application_1638133298630_24070\\n'\tRETURN CODE: 0\n",
      "\n"
     ]
    }
   ],
   "source": [
    "# Migration for user projects\n",
    "for p in tqdm.tqdm_notebook(user_projects, total=len(user_projects)):\n",
    "    try:\n",
    "        new_config = get_new_config(p[\"config\"])\n",
    "        if new_config != p[\"config\"]:\n",
    "            response = migration.client.patch(\n",
    "                url=\"compose/project/{}/\".format(p[\"id\"]),\n",
    "                json={\"config\": new_config}\n",
    "            )\n",
    "            migration.check_response(response, 200)\n",
    "\n",
    "            migration.update_pipelines(project_name=p[\"name\"], kill_in_yarn=True)\n",
    "\n",
    "    except Exception as e:\n",
    "        print(\"There is a trouble with project='{}': {}\".format(p[\"name\"], e))"
   ]
  },
  {
   "cell_type": "code",
   "execution_count": null,
   "metadata": {},
   "outputs": [],
   "source": []
  },
  {
   "cell_type": "markdown",
   "metadata": {},
   "source": [
    "### Manual step\n",
    "1. Update target manager configs in Control (https://dmcontrol-dev.host/admin/target/targetmanagermodel/)\n",
    "2. Sync ... GO"
   ]
  },
  {
   "cell_type": "code",
   "execution_count": null,
   "metadata": {},
   "outputs": [],
   "source": []
  },
  {
   "cell_type": "code",
   "execution_count": 14,
   "metadata": {},
   "outputs": [
    {
     "name": "stdout",
     "output_type": "stream",
     "text": [
      "Processing lookalike ...\n"
     ]
    },
    {
     "data": {
      "application/vnd.jupyter.widget-view+json": {
       "model_id": "0c63531811fb40679367fa1d8b37a8a8",
       "version_major": 2,
       "version_minor": 0
      },
      "text/plain": [
       "HBox(children=(IntProgress(value=1, bar_style='info', max=1), HTML(value='')))"
      ]
     },
     "metadata": {},
     "output_type": "display_data"
    },
    {
     "name": "stdout",
     "output_type": "stream",
     "text": [
      "\n",
      "Done\n",
      "\n",
      "Processing portrait ...\n"
     ]
    },
    {
     "data": {
      "application/vnd.jupyter.widget-view+json": {
       "model_id": "069de3be24324b83943c5f0447c8dfaf",
       "version_major": 2,
       "version_minor": 0
      },
      "text/plain": [
       "HBox(children=(IntProgress(value=0, max=7018), HTML(value='')))"
      ]
     },
     "metadata": {},
     "output_type": "display_data"
    },
    {
     "name": "stdout",
     "output_type": "stream",
     "text": [
      "object id 7034 doesn't have attribute 'project'\n",
      "object id 7033 doesn't have attribute 'project'\n",
      "\n",
      "Done\n",
      "\n",
      "Processing sales_report ...\n"
     ]
    },
    {
     "data": {
      "application/vnd.jupyter.widget-view+json": {
       "model_id": "8a737be224a04d40ad02c6a75d930d1a",
       "version_major": 2,
       "version_minor": 0
      },
      "text/plain": [
       "HBox(children=(IntProgress(value=1, bar_style='info', max=1), HTML(value='')))"
      ]
     },
     "metadata": {},
     "output_type": "display_data"
    },
    {
     "name": "stdout",
     "output_type": "stream",
     "text": [
      "\n",
      "Done\n",
      "\n"
     ]
    }
   ],
   "source": [
    "# Update pipelines for managed projects\n",
    "for target_obj in [\"lookalike\", \"portrait\", \"sales_report\"]:\n",
    "    print(\"Processing {} ...\".format(target_obj))\n",
    "\n",
    "    response = migration.client.get(url=\"target/{}/\".format(target_obj), params={\"page_size\": 1000000})\n",
    "    migration.check_response(response, 200)\n",
    "    objs = response.json()[\"results\"]\n",
    "\n",
    "    for obj in tqdm.tqdm_notebook(objs, total=len(objs)):\n",
    "        if obj[\"status\"] in {\"pending\", \"processing\"}:\n",
    "            project = obj.get(\"project\")\n",
    "            if project:\n",
    "                migration.update_pipelines(project_name=obj[\"project\"], kill_in_yarn=True)\n",
    "            else:\n",
    "                print(\"object id {} doesn't have attribute 'project'\".format(obj[\"id\"]))\n",
    "\n",
    "    print(\"Done\\n\")"
   ]
  },
  {
   "cell_type": "code",
   "execution_count": null,
   "metadata": {},
   "outputs": [],
   "source": []
  },
  {
   "cell_type": "markdown",
   "metadata": {},
   "source": [
    "### III. Switch on\n",
    "Manual actions:\n",
    "1. For all originally enabled managers - set `project.enabled: true` in manager config.\n",
    "2. Sync ... GO.\n",
    "3. Switch on (enable) these managers.\n",
    "4. Start code below to switch on all previously disabled user projects.\n",
    "\n",
    "There must be also a flag from https://jira.host/browse/TRG-72710\n",
    "(https://dmcontrol.host/admin/compose/settingmodel/ `ENGINEERING_WORK: false`)"
   ]
  },
  {
   "cell_type": "code",
   "execution_count": 15,
   "metadata": {},
   "outputs": [
    {
     "data": {
      "application/vnd.jupyter.widget-view+json": {
       "model_id": "e4fdd5e75c104a7b970fd67d2b4df8bb",
       "version_major": 2,
       "version_minor": 0
      },
      "text/plain": [
       "HBox(children=(IntProgress(value=0, max=529), HTML(value='')))"
      ]
     },
     "metadata": {},
     "output_type": "display_data"
    },
    {
     "name": "stdout",
     "output_type": "stream",
     "text": [
      "\n"
     ]
    }
   ],
   "source": [
    "migration.enable_projects()"
   ]
  },
  {
   "cell_type": "code",
   "execution_count": null,
   "metadata": {},
   "outputs": [],
   "source": []
  }
 ],
 "metadata": {
  "kernelspec": {
   "display_name": "Python 3",
   "language": "python",
   "name": "python3"
  },
  "language_info": {
   "codemirror_mode": {
    "name": "ipython",
    "version": 3
   },
   "file_extension": ".py",
   "mimetype": "text/x-python",
   "name": "python",
   "nbconvert_exporter": "python",
   "pygments_lexer": "ipython3",
   "version": "3.7.4"
  }
 },
 "nbformat": 4,
 "nbformat_minor": 2
}
