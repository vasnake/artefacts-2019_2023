{
 "cells": [
  {
   "cell_type": "markdown",
   "metadata": {},
   "source": [
    "### Make sure to use Python3, since it has natural order in dictionaries"
   ]
  },
  {
   "cell_type": "code",
   "execution_count": 1,
   "metadata": {},
   "outputs": [
    {
     "name": "stdout",
     "output_type": "stream",
     "text": [
      "/data/anaconda3/bin/python\n"
     ]
    }
   ],
   "source": [
    "import sys\n",
    "\n",
    "print(sys.executable)"
   ]
  },
  {
   "cell_type": "code",
   "execution_count": null,
   "metadata": {
    "collapsed": true
   },
   "outputs": [],
   "source": []
  },
  {
   "cell_type": "markdown",
   "metadata": {},
   "source": [
    "### Control client"
   ]
  },
  {
   "cell_type": "code",
   "execution_count": 2,
   "metadata": {},
   "outputs": [],
   "source": [
    "import requests\n",
    "\n",
    "from requests_kerberos import HTTPKerberosAuth, DISABLED\n",
    "from requests.status_codes import codes\n",
    "\n",
    "\n",
    "class ControlClient:\n",
    "    _RESULTS = \"results\"\n",
    "    _COUNT = \"count\"\n",
    "    _PAGE_SIZE = \"page_size\"\n",
    "\n",
    "    def __init__(self, base_url):\n",
    "        self.base_url = base_url\n",
    "        self._auth = HTTPKerberosAuth(mutual_authentication=DISABLED)\n",
    "\n",
    "    def get_object_by_name(self, url, name, to_field=\"name\", **kwargs):\n",
    "        if \"params\" not in kwargs:\n",
    "            kwargs[\"params\"] = {}\n",
    "        params = {to_field: name, self._PAGE_SIZE: 1}\n",
    "        kwargs[\"params\"].update(**params)\n",
    "\n",
    "        response = self.get(url, **kwargs)\n",
    "\n",
    "        if response.status_code != codes.ALL_OK:\n",
    "            raise ValueError(\"Invalid request: {}\".format(response.text))\n",
    "\n",
    "        try:\n",
    "            parsed = response.json()\n",
    "        except Exception as e:\n",
    "            raise ValueError(\n",
    "                \"Got invalid json from response: {}. \"\n",
    "                \"Original response test: {}\".format(e, response.text)\n",
    "            )\n",
    "\n",
    "        if parsed[self._COUNT] == 0:\n",
    "            raise ValueError(\"Object with name '{}' does not exist.\".format(name))\n",
    "\n",
    "        if parsed[self._COUNT] > 1:\n",
    "            raise ValueError(\"Got multiple objects with name '{}'.\".format(name))\n",
    "\n",
    "        return parsed[self._RESULTS][0]\n",
    "\n",
    "    def get(self, url, **kwargs):\n",
    "        return self._request('get', url, **kwargs)\n",
    "\n",
    "    def post(self, url, **kwargs):\n",
    "        return self._request('post', url, **kwargs)\n",
    "\n",
    "    def patch(self, url, **kwargs):\n",
    "        return self._request('patch', url, **kwargs)\n",
    "\n",
    "    def delete(self, url, **kwargs):\n",
    "        return self._request('delete', url, **kwargs)\n",
    "\n",
    "    def _request(self, method, url, **kwargs):\n",
    "        # cast absolute to relative\n",
    "        if url.startswith(\"/\"):\n",
    "            url = url[1:]\n",
    "\n",
    "        full_url = requests.compat.urljoin(self.base_url, url)\n",
    "        kwargs['auth'] = self._auth\n",
    "        try:\n",
    "            return requests.request(method, full_url, **kwargs)\n",
    "        except Exception as e:\n",
    "            raise ValueError(\n",
    "                \"Got error making HTTP {} request \"\n",
    "                \"on url '{}', original error message: {}.\".format(method.upper(), full_url, e)\n",
    "            )\n",
    "\n",
    "\n",
    "cc_prod = ControlClient(\"http://dmcontrol.host/api/\")\n",
    "cc_dev = ControlClient(\"http://dmcontrol-dev.host/api/\")"
   ]
  },
  {
   "cell_type": "code",
   "execution_count": null,
   "metadata": {
    "collapsed": true
   },
   "outputs": [],
   "source": []
  },
  {
   "cell_type": "markdown",
   "metadata": {},
   "source": [
    "### Basic tools"
   ]
  },
  {
   "cell_type": "code",
   "execution_count": 3,
   "metadata": {},
   "outputs": [],
   "source": [
    "import os\n",
    "import dill\n",
    "import tqdm\n",
    "import datetime\n",
    "import subprocess\n",
    "\n",
    "\n",
    "class ControlUtils(object):\n",
    "\n",
    "    def __init__(self, prod=False):\n",
    "        self._xapp_cache = {}\n",
    "        if prod:\n",
    "            self.client = cc_prod\n",
    "        else:\n",
    "            self.client = cc_dev\n",
    "\n",
    "    @staticmethod\n",
    "    def check_response(r, status):\n",
    "        if r.status_code != status:\n",
    "            raise Exception(\n",
    "                \"Bad request for url={} - status={}, reason='{}'\".format(r.url, r.status_code, r.reason)\n",
    "            )\n",
    "\n",
    "    def get_user_projects(self):\n",
    "        response = self.client.get(url=\"compose/project/\", params={\"page_size\": 1000000})\n",
    "        self.check_response(response, 200)\n",
    "        projects = response.json()[\"results\"]\n",
    "\n",
    "        response = self.client.get(url=\"target/portrait/\", params={\"page_size\": 1000000})\n",
    "        self.check_response(response, 200)\n",
    "        portraits = response.json()[\"results\"]\n",
    "\n",
    "        response = self.client.get(url=\"target/lookalike/\", params={\"page_size\": 1000000})\n",
    "        self.check_response(response, 200)\n",
    "        lookalikes = response.json()[\"results\"]\n",
    "\n",
    "        response = self.client.get(url=\"target/sales_report/\", params={\"page_size\": 1000000})\n",
    "        self.check_response(response, 200)\n",
    "        sales_reports = response.json()[\"results\"]\n",
    "\n",
    "        managed_project_names = set.union(\n",
    "            set(_[\"project\"] for _ in portraits),\n",
    "            set(_[\"project\"] for _ in lookalikes),\n",
    "            set(_[\"project\"] for _ in sales_reports)\n",
    "        )\n",
    "\n",
    "        return [p for p in projects if p[\"name\"] not in managed_project_names]\n",
    "\n",
    "    def get_compose_projects(self, max_items=1000000):\n",
    "        response = self.client.get(url=\"compose/project/\", params={\"page_size\": max_items})\n",
    "        self.check_response(response, 200)\n",
    "        projects = response.json()[\"results\"]\n",
    "        return [p for p in projects]\n",
    "\n",
    "    def get_compose_project(self, proj_id):\n",
    "        response = self.client.get(url=\"compose/project/{}/\".format(proj_id), params={})\n",
    "        self.check_response(response, 200)\n",
    "        return response.json()\n",
    "\n",
    "    def get_grinder_projects(self, max_items=1000000):\n",
    "        response = self.client.get(url=\"grinder/project/\", params={\"page_size\": max_items})\n",
    "        self.check_response(response, 200)\n",
    "        projects = response.json()[\"results\"]\n",
    "        return [p for p in projects]\n",
    "\n",
    "    def get_export_projects(self, max_items=1000000):\n",
    "        response = self.client.get(url=\"export/project/\", params={\"page_size\": max_items})\n",
    "        self.check_response(response, 200)\n",
    "        projects = response.json()[\"results\"]\n",
    "        return [p for p in projects]\n",
    "\n",
    "    def get_compose_jobs(self, max_items=100):\n",
    "        response = self.client.get(url=\"compose/job/\", params={\"page_size\": max_items})\n",
    "        self.check_response(response, 200)\n",
    "        return response.json()[\"results\"]\n",
    "\n",
    "    def get_compose_job(self, job_id):\n",
    "        response = self.client.get(url=\"compose/job/{}/\".format(job_id), params={})\n",
    "        self.check_response(response, 200)\n",
    "        return response.json()\n",
    "\n",
    "# https://dmcontrol.host/api/compose/project/\n",
    "# https://dmcontrol.host/api/grinder/project/"
   ]
  },
  {
   "cell_type": "code",
   "execution_count": 19,
   "metadata": {},
   "outputs": [],
   "source": [
    "control = ControlUtils(prod=True)"
   ]
  },
  {
   "cell_type": "code",
   "execution_count": null,
   "metadata": {},
   "outputs": [],
   "source": []
  },
  {
   "cell_type": "code",
   "execution_count": 20,
   "metadata": {},
   "outputs": [],
   "source": [
    "import json\n",
    "import six"
   ]
  },
  {
   "cell_type": "code",
   "execution_count": null,
   "metadata": {
    "collapsed": true
   },
   "outputs": [],
   "source": []
  },
  {
   "cell_type": "code",
   "execution_count": 6,
   "metadata": {
    "scrolled": false
   },
   "outputs": [
    {
     "name": "stdout",
     "output_type": "stream",
     "text": [
      "887\n"
     ]
    }
   ],
   "source": [
    "jobs = [job for job in control.get_compose_jobs(max_items=1000) if job[\"status\"] == \"success\"]\n",
    "print(len(jobs))\n",
    "# print(json.dumps(jobs, indent=2))"
   ]
  },
  {
   "cell_type": "code",
   "execution_count": null,
   "metadata": {
    "collapsed": true
   },
   "outputs": [],
   "source": [
    "job = control.get_compose_job(2369243)\n",
    "print(json.dumps(job, indent=2))"
   ]
  },
  {
   "cell_type": "code",
   "execution_count": null,
   "metadata": {
    "collapsed": true
   },
   "outputs": [],
   "source": []
  },
  {
   "cell_type": "code",
   "execution_count": 21,
   "metadata": {},
   "outputs": [
    {
     "name": "stdout",
     "output_type": "stream",
     "text": [
      "45659\n"
     ]
    }
   ],
   "source": [
    "grinder_projects = control.get_grinder_projects()\n",
    "print(len(grinder_projects))"
   ]
  },
  {
   "cell_type": "code",
   "execution_count": 22,
   "metadata": {},
   "outputs": [
    {
     "name": "stdout",
     "output_type": "stream",
     "text": [
      "26274\n"
     ]
    }
   ],
   "source": [
    "compose_projects = control.get_compose_projects()\n",
    "print(len(compose_projects))"
   ]
  },
  {
   "cell_type": "code",
   "execution_count": 23,
   "metadata": {},
   "outputs": [
    {
     "name": "stdout",
     "output_type": "stream",
     "text": [
      "47523\n"
     ]
    }
   ],
   "source": [
    "export_projects = control.get_export_projects()\n",
    "print(len(export_projects))"
   ]
  },
  {
   "cell_type": "code",
   "execution_count": null,
   "metadata": {
    "collapsed": true
   },
   "outputs": [],
   "source": []
  },
  {
   "cell_type": "code",
   "execution_count": null,
   "metadata": {
    "scrolled": true
   },
   "outputs": [],
   "source": [
    "my_prj = control.get_compose_project(48043) # [p for p in compose_projects if p[\"id\"] == 45][0]\n",
    "print(json.dumps(my_prj, indent=2))"
   ]
  },
  {
   "cell_type": "code",
   "execution_count": null,
   "metadata": {
    "collapsed": true
   },
   "outputs": [],
   "source": []
  },
  {
   "cell_type": "code",
   "execution_count": 24,
   "metadata": {},
   "outputs": [],
   "source": [
    "# search_for = \"grinder_desktop_dataset\"\n",
    "# search_for = \"grinder_mobile_dataset\"\n",
    "# search_for = \"grinder_mobile_dataset_expanded\"\n",
    "# search_for = \"hid_dataset_0_1\"\n",
    "# search_for = \"hid_dataset_2_0_dm8225\"\n",
    "# search_for = \"hid_dataset_3_0\"\n",
    "# search_for = \"hid_dataset_3_0__raw_partial\"\n",
    "\n",
    "tables = [\n",
    "    \"snb_ds_segmentation.grinder_test_dataset_v7_23_11\",\n",
    "    \"snb_ds_segmentation.grinder_test_dataset_v6_08_10\",\n",
    "    \"snb_ds_segmentation.grinder_test_dataset_v5_07_10\",\n",
    "    \"snb_ds_segmentation.grinder_test_dataset_v4_04_10\",\n",
    "    \"snb_ds_segmentation.grinder_test_dataset_v3_11_08\",\n",
    "    \"dmgrinder_source.rng_dataset_v5_pb\",\n",
    "    \"dmgrinder_source.rng_dataset_v5_ars_max_uniq_05\",\n",
    "    \"dmgrinder_source.rng_dataset_v5_ars_avg_uniq_05\",\n",
    "    \"dmgrinder_source.rng_dataset_v5_ars_sum_uniq_05\",\n",
    "    \"dmgrinder_source.rng_dataset_v5_ars_max_per_uniq_05\",\n",
    "    \"dmgrinder_source.rng_dataset_v5_ars_avg_per_uniq_05\",\n",
    "    \"dmgrinder_source.rng_dataset_v5_ars_sum_per_uniq_05\",\n",
    "    \"dmgrinder_source.rng_dataset_v5_ars_sum_per_05\",\n",
    "    \"dmgrinder_source.rng_dataset_v5_ars_consolid_v2\",\n",
    "    \"dmgrinder_source.rng_dataset_v5_ars2_1\",\n",
    "    \"dmgrinder_source.rng_dataset_v5_test1\",\n",
    "    \"dmgrinder_source.rng_dataset_v5\",\n",
    "    \"dmgrinder_source.rng_dataset_v4\",\n",
    "    \"dmgrinder_source.rng_dataset_v3\",\n",
    "    \"dmgrinder_source.hid_dataset_desc__raw_partial\",\n",
    "    \"dmgrinder_source.hid_dataset_desc_0\",\n",
    "    \"dmgrinder_source.rng_dataset_v2\",\n",
    "    \"dmgrinder_source.rng_dataset_v1\",\n",
    "]\n",
    "\n",
    "def is_in(substring, obj):\n",
    "    text = str(json.dumps(obj)).lower()\n",
    "    return (\n",
    "        str('\"{}\"'.format(substring)).lower() in text \n",
    "        or str('.{}\"'.format(substring)).lower() in text\n",
    "    )"
   ]
  },
  {
   "cell_type": "code",
   "execution_count": null,
   "metadata": {},
   "outputs": [],
   "source": []
  },
  {
   "cell_type": "code",
   "execution_count": null,
   "metadata": {},
   "outputs": [],
   "source": [
    "unused = []\n",
    "used = []\n",
    "for fqtn in tables:\n",
    "    db, table = fqtn.split(\".\")\n",
    "    in_use = False\n",
    "\n",
    "    for p in grinder_projects:\n",
    "        if is_in(fqtn, p) or is_in(table, p):\n",
    "            in_use = True\n",
    "            print(\"{} in grinder project id: {}, name: {}, enabled: {}\".format(fqtn, p[\"id\"], p[\"name\"], p[\"enabled\"]))\n",
    "\n",
    "    for p in compose_projects:\n",
    "        if is_in(fqtn, p) or is_in(table, p):\n",
    "            in_use = True\n",
    "            print(\"{} in compose project id: {}, name: {}, enabled: {}\".format(fqtn, p[\"id\"], p[\"name\"], p[\"enabled\"]))\n",
    "\n",
    "    for p in export_projects:\n",
    "        if is_in(fqtn, p) or is_in(table, p):\n",
    "            in_use = True\n",
    "            print(\"{} in export project id: {}, name: {}, enabled: {}\".format(fqtn, p[\"id\"], p[\"name\"], p[\"enabled\"]))\n",
    "\n",
    "    if not in_use:\n",
    "        unused.append(fqtn)\n",
    "    else:\n",
    "        used.append(fqtn)\n",
    "\n",
    "print(\"\\nunused tables:\\n{}\".format(\",\\n\".join(unused)))\n",
    "print(\"\\nin use tables:\\n{}\".format(\",\\n\".join(used)))"
   ]
  },
  {
   "cell_type": "code",
   "execution_count": null,
   "metadata": {},
   "outputs": [],
   "source": []
  },
  {
   "cell_type": "code",
   "execution_count": 60,
   "metadata": {
    "collapsed": true
   },
   "outputs": [
    {
     "name": "stdout",
     "output_type": "stream",
     "text": [
      "total 0, enabled 0\n"
     ]
    }
   ],
   "source": [
    "found_grinder_projects = [\n",
    "    p for p in grinder_projects\n",
    "    if is_it(p)\n",
    "]\n",
    "\n",
    "print(\"found grinder projects, total {}, enabled {}\".format(\n",
    "    len(found_grinder_projects), len([p for p in found_grinder_projects if p[\"enabled\"]])\n",
    "))"
   ]
  },
  {
   "cell_type": "code",
   "execution_count": 62,
   "metadata": {
    "collapsed": true
   },
   "outputs": [
    {
     "name": "stdout",
     "output_type": "stream",
     "text": [
      "total 3, enabled 2\n"
     ]
    }
   ],
   "source": [
    "found_compose_projects = [\n",
    "    p for p in compose_projects\n",
    "    if is_it(p)\n",
    "]\n",
    "\n",
    "print(\"found compose projects, total {}, enabled {}\".format(\n",
    "    len(found_compose_projects), len([p for p in found_compose_projects if p[\"enabled\"]])\n",
    "))"
   ]
  },
  {
   "cell_type": "code",
   "execution_count": null,
   "metadata": {},
   "outputs": [],
   "source": [
    "found_export_projects = [\n",
    "    p for p in export_projects\n",
    "    if is_it(p)\n",
    "]\n",
    "\n",
    "print(\"found export projects, total {}, enabled {}\".format(\n",
    "    len(found_export_projects), len([p for p in found_export_projects if p[\"enabled\"]])\n",
    "))"
   ]
  },
  {
   "cell_type": "code",
   "execution_count": 63,
   "metadata": {
    "collapsed": true
   },
   "outputs": [
    {
     "name": "stdout",
     "output_type": "stream",
     "text": [
      "id: 29923, name: CleanerHive_dmgrinder_source.hid_dataset_3_0__raw_partial, enabled: True, xapp: ['cleaner:CleanerHive/CleanerHive']\n",
      "id: 15791, name: ETLFeatures-hid-dataset-3-0, enabled: True, xapp: ['JoinRawIntoHid/ETLFeatures', 'JoinFinalDataset/ETLFeatures']\n"
     ]
    }
   ],
   "source": [
    "def get_xapp(p):\n",
    "    jobs = p[\"config\"][\"jobs\"]\n",
    "    return [\n",
    "        \"{}/{}\".format(job_n, job_conf[\"xapp\"]) \n",
    "        for job_n, job_conf in six.iteritems(jobs)\n",
    "    ]\n",
    "\n",
    "for p in found_compose_projects:\n",
    "    if p[\"enabled\"]:\n",
    "        print(\n",
    "            \"id: {}, name: {}, enabled: {}, xapp: {}\"\n",
    "            \"\".format(p[\"id\"], p[\"name\"], p[\"enabled\"], get_xapp(p))\n",
    "        )"
   ]
  },
  {
   "cell_type": "code",
   "execution_count": 64,
   "metadata": {
    "collapsed": true
   },
   "outputs": [],
   "source": [
    "for p in found_grinder_projects:\n",
    "    print(\n",
    "        \"id: {}, name: {}, enabled: {}\"\n",
    "        \"\".format(p[\"id\"], p[\"name\"], p[\"enabled\"])\n",
    "    )"
   ]
  },
  {
   "cell_type": "code",
   "execution_count": null,
   "metadata": {},
   "outputs": [],
   "source": [
    "for p in found_export_projects:\n",
    "    print(\n",
    "        \"id: {}, name: {}, enabled: {}\"\n",
    "        \"\".format(p[\"id\"], p[\"name\"], p[\"enabled\"])\n",
    "    )"
   ]
  },
  {
   "cell_type": "code",
   "execution_count": null,
   "metadata": {
    "collapsed": true
   },
   "outputs": [],
   "source": []
  },
  {
   "cell_type": "code",
   "execution_count": null,
   "metadata": {
    "collapsed": true
   },
   "outputs": [],
   "source": [
    "# print(json.dumps(export_projects[42], indent=2))\n",
    "\n",
    "search_list = [\n",
    "    \"device-socdem-age\",\n",
    "    \"device-socdem-sex\",\n",
    "    \"device-model-age\",\n",
    "    \"device-model-gender\",\n",
    "    \"DM-9038__agg_7__bin__cat_addCart\",\n",
    "    \"hid-socdem-age\", \"hid-sample-age\",\n",
    "    \"hid-socdem-sex\", \"hid-sample-sex\",\n",
    "]\n",
    "\n",
    "def is_export_for(obj, substrings):\n",
    "    text = str(json.dumps(obj)).lower()\n",
    "    finds = [\n",
    "        str('\"{}\"'.format(substring)).lower() in text \n",
    "        for substring in substrings\n",
    "    ]\n",
    "    return any(finds)\n",
    "\n",
    "found_export_projects = [\n",
    "    p for p in export_projects\n",
    "    if is_export_for(p, search_list)\n",
    "]\n",
    "\n",
    "print(\"found export projects, total {}, enabled {}\".format(\n",
    "    len(found_export_projects), len([p for p in found_export_projects if p[\"enabled\"]])\n",
    "))\n",
    "\n",
    "for p in found_export_projects:\n",
    "    print(\n",
    "        \"id: {}, name: {}, enabled: {}\"\n",
    "        \"\".format(p[\"id\"], p[\"name\"], p[\"enabled\"])\n",
    "    )"
   ]
  },
  {
   "cell_type": "code",
   "execution_count": null,
   "metadata": {
    "collapsed": true
   },
   "outputs": [],
   "source": []
  }
 ],
 "metadata": {
  "kernelspec": {
   "display_name": "Python 3",
   "language": "python",
   "name": "python3"
  },
  "language_info": {
   "codemirror_mode": {
    "name": "ipython",
    "version": 3
   },
   "file_extension": ".py",
   "mimetype": "text/x-python",
   "name": "python",
   "nbconvert_exporter": "python",
   "pygments_lexer": "ipython3",
   "version": "3.7.4"
  }
 },
 "nbformat": 4,
 "nbformat_minor": 2
}
