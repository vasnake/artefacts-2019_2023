{
 "cells": [
  {
   "cell_type": "code",
   "execution_count": 1,
   "metadata": {
    "collapsed": true
   },
   "outputs": [],
   "source": [
    "import pprint\n",
    "from pprint import pformat\n",
    "import os\n",
    "import datetime\n",
    "\n",
    "from operator import and_\n",
    "from collections import defaultdict\n",
    "\n",
    "import six\n",
    "import luigi\n",
    "import pyspark.sql.functions as sqlfn\n",
    "\n",
    "import json\n",
    "import itertools as it\n",
    "\n",
    "from pyspark.sql.types import MapType, ArrayType, FloatType, StringType, NumericType\n",
    "\n",
    "if six.PY3:\n",
    "    from functools import reduce  # make flake8 happy"
   ]
  },
  {
   "cell_type": "code",
   "execution_count": null,
   "metadata": {
    "collapsed": true
   },
   "outputs": [],
   "source": [
    "# pprint.pprint(dict(os.environ), width=1)\n",
    "def log(obj, msg=\"\"):\n",
    "    if msg: print(msg)\n",
    "    print(\"type: {}\\ndata: {}\".format(type(obj), pformat(obj, indent=1, width=1)))\n",
    "\n",
    "log(os.environ, \"os.environ\")\n",
    "print()\n",
    "log(dict(os.environ), \"dict(os.environ)\")"
   ]
  },
  {
   "cell_type": "code",
   "execution_count": 3,
   "metadata": {
    "collapsed": true
   },
   "outputs": [],
   "source": [
    "import os\n",
    "import sys\n",
    "\n",
    "from pyspark.sql import SparkSession, SQLContext\n",
    "\n",
    "# Pack executable prj conda environment into zip\n",
    "TMP_ENV_BASEDIR = \"tmpenv\"  # Reserved directory to store environment archive\n",
    "env_dir = os.path.dirname(os.path.dirname(sys.executable))\n",
    "env_name = os.path.basename(env_dir)\n",
    "env_archive = \"{basedir}/{env}.zip#{basedir}\".format(basedir=TMP_ENV_BASEDIR, env=env_name)\n",
    "os.environ[\"PYSPARK_PYTHON\"] = \"{}/{}/bin/python\".format(TMP_ENV_BASEDIR, env_name)\n",
    "\n",
    "# you need this only first time!\n",
    "# !rm -rf {TMP_ENV_BASEDIR} && mkdir {TMP_ENV_BASEDIR} && cd {TMP_ENV_BASEDIR} && rsync -a {env_dir} . && zip -rq {env_name}.zip {env_name}\n"
   ]
  },
  {
   "cell_type": "code",
   "execution_count": 4,
   "metadata": {
    "collapsed": true
   },
   "outputs": [],
   "source": [
    "# Create Spark session with prj conda environment and JVM extensions\n",
    "spark = SparkSession.builder\\\n",
    "    .master(\"yarn-client\")\\\n",
    "    .appName(\"dmprj-uf_export_test\")\\\n",
    "    .config(\"spark.yarn.queue\", \"dev.regular\")\\\n",
    "    .config(\"spark.executor.instances\", \"10\")\\\n",
    "    .config(\"spark.executor.memory\", \"8G\")\\\n",
    "    .config(\"spark.executor.cores\", \"6\")\\\n",
    "    .config(\"spark.yarn.executor.memoryOverhead\", \"2G\")\\\n",
    "    .config(\"spark.dynamicAllocation.enabled\", \"true\")\\\n",
    "    .config(\"spark.dynamicAllocation.executorIdleTimeout\", \"300s\")\\\n",
    "    .config(\"spark.dynamicAllocation.maxExecutors\", \"128\")\\\n",
    "    .config(\"spark.network.timeout\", \"800s\")\\\n",
    "    .config(\"spark.reducer.maxReqsInFlight\", \"10\")\\\n",
    "    .config(\"spark.shuffle.io.retryWait\", \"60s\")\\\n",
    "    .config(\"spark.shuffle.io.maxRetries\", \"10\")\\\n",
    "    .config(\"spark.sql.shuffle.partitions\", \"1024\")\\\n",
    "    .config(\"spark.driver.memory\", \"4G\")\\\n",
    "    .config(\"spark.driver.maxResultSize\", \"2G\")\\\n",
    "    .config(\"spark.serializer\", \"org.apache.spark.serializer.KryoSerializer\")\\\n",
    "    .config(\"spark.kryoserializer.buffer.max\", \"1024m\")\\\n",
    "    .config(\"hive.exec.dynamic.partition\", \"true\")\\\n",
    "    .config(\"hive.exec.dynamic.partition.mode\", \"nonstrict\")\\\n",
    "    .config(\"hive.exec.max.dynamic.partitions\", \"100000\")\\\n",
    "    .config(\"hive.exec.max.dynamic.partitions.pernode\", \"10000\")\\\n",
    "    .config(\"spark.jars\", \"hdfs:/lib/dm/prj-transformers-assembly-1.4.0.jar\")\\\n",
    "    .config(\"spark.yarn.dist.archives\", env_archive)\\\n",
    "    .getOrCreate()\n",
    "\n",
    "sql_ctx = SQLContext(spark.sparkContext)"
   ]
  },
  {
   "cell_type": "code",
   "execution_count": 67,
   "metadata": {
    "collapsed": true
   },
   "outputs": [],
   "source": [
    "# end of env. setup"
   ]
  },
  {
   "cell_type": "code",
   "execution_count": null,
   "metadata": {
    "collapsed": true
   },
   "outputs": [],
   "source": [
    "import os\n",
    "\n",
    "from pprint import pformat\n",
    "\n",
    "import luigi\n",
    "import pyspark.sql.functions as sqlfn\n",
    "\n",
    "from pyspark.sql.types import MapType, ArrayType, FloatType, DoubleType, StringType, StructType, IntegralType\n",
    "from pyspark.sql.utils import CapturedException\n",
    "\n",
    "from luigi.contrib.hdfs import HdfsTarget\n",
    "\n",
    "from dmprj.apps.utils.common import add_days\n",
    "from dmprj.apps.utils.common.hive import format_table, select_clause\n",
    "from dmprj.apps.utils.common.luigix import HiveExternalTask\n",
    "from dmprj.apps.utils.control.luigix.task import ControlApp\n",
    "from dmprj.apps.utils.control.client.exception import FailedStatusException, MissingDepsStatusException\n",
    "\n",
    "from dmprj.apps.utils.common import unfreeze_json_param\n",
    "from dmprj.apps.utils.common.fs import HdfsClient\n",
    "from dmprj.apps.utils.common.hive import FindPartitionsEngine\n",
    "from dmprj.apps.utils.common.luigix import HiveTableSchemaTarget\n",
    "\n",
    "from dmprj.apps.utils.common.hive import select_clause\n",
    "from dmprj.apps.utils.common.spark import CustomUDFLibrary, insert_into_hive\n",
    "from dmprj.apps.utils.common.luigix import HiveExternalTask, HiveGenericTarget\n",
    "from dmgrinder.apps.utils.control.luigix import ControlApp, ControlDynamicOutputPySparkTask"
   ]
  },
  {
   "cell_type": "code",
   "execution_count": null,
   "metadata": {
    "collapsed": true
   },
   "outputs": [],
   "source": [
    "CustomUDFLibrary(spark).register_all_udf()"
   ]
  },
  {
   "cell_type": "code",
   "execution_count": 75,
   "metadata": {
    "collapsed": true
   },
   "outputs": [],
   "source": [
    "# experiments with UF export app"
   ]
  },
  {
   "cell_type": "code",
   "execution_count": 70,
   "metadata": {
    "collapsed": true
   },
   "outputs": [],
   "source": [
    "app_config = \"\"\"\n",
    "{\n",
    "    \"feature_name\": \"rng_installs_predict\",\n",
    "    \"target_dt\": \"2021-10-12\",\n",
    "    \"target_hdfs_basedir\": \"hdfs:/export/target/universal_features/\",\n",
    "    \"min_target_rows\": 1000000,\n",
    "    \"source_db\": \"ds_auditories\",\n",
    "    \"source_table\": \"clal_adhoc_audience\",\n",
    "    \"source_partition_conf\": {\n",
    "      \"audience_name\": [\n",
    "        \"rng_installs__all_trg_72510\",\n",
    "        \"rng_installs__soc_med_trg_72510\"\n",
    "      ],\n",
    "      \"category\": \"positive\",\n",
    "      \"uid_type\": [\n",
    "        \"GAID\"\n",
    "      ]\n",
    "    },\n",
    "    \"max_dt_diff\": 0,\n",
    "    \"export_columns\": {\n",
    "      \"uid\": \"uid\",\n",
    "      \"uid_type\": \"uid_type\",\n",
    "      \"bu_link_id\": {\n",
    "        \"expr\": \"CASE WHEN audience_name = 'rng_installs__all_trg_72510' THEN 1 ELSE 0 END\",\n",
    "        \"link_type\": \"AggBannerTopic\"\n",
    "      },\n",
    "      \"feature\": \"map_values_ordered(user_dmdesc.collect(audience_name, cast((CASE WHEN audience_name = 'rng_installs__all_trg_72510' AND scores_raw[0] < 0.25 THEN 1 WHEN audience_name = 'rng_installs__all_trg_72510' AND scores_raw[0] < 0.63 THEN 8 WHEN audience_name = 'rng_installs__soc_med_trg_72510' AND scores_raw[0] < 0.24 THEN 1 WHEN audience_name = 'rng_installs__soc_med_trg_72510' AND scores_raw[0] < 0.31 THEN 2 WHEN audience_name = 'rng_installs__soc_med_trg_72510' AND scores_raw[0] < 1.01 THEN 10 ELSE 0 END) as float)), array('rng_installs__all_trg_72510', 'rng_installs__soc_med_trg_72510'))\"\n",
    "    },\n",
    "    \"shuffle_partitions\": 1000,\n",
    "    \"force\": false,\n",
    "    \"status_urls\": [\n",
    "      \"http://dmcontrol.host/api/compose/jobrun/1182405/\"\n",
    "    ],\n",
    "    \"output_urls\": [\n",
    "      \"http://dmcontrol.host/api/compose/job/1142695/result/\"\n",
    "    ],\n",
    "    \"input_urls\": [\n",
    "      null\n",
    "    ],\n",
    "    \"log_url\": \"http://dmcontrol.host/api/compose/task/937183/log/\",\n",
    "    \"ctid\": \"prod_937183\"\n",
    "  }  \n",
    "\"\"\""
   ]
  },
  {
   "cell_type": "code",
   "execution_count": 10,
   "metadata": {
    "collapsed": true
   },
   "outputs": [],
   "source": [
    "app_config_orig = \"\"\"\n",
    "{\n",
    "    \"feature_name\": \"rng_installs_predict\",\n",
    "    \"target_dt\": \"2021-10-12\",\n",
    "    \"target_hdfs_basedir\": \"hdfs:/export/target/universal_features/\",\n",
    "    \"min_target_rows\": 1000000,\n",
    "    \"source_db\": \"ds_auditories\",\n",
    "    \"source_table\": \"clal_adhoc_audience\",\n",
    "    \"source_partition_conf\": {\n",
    "      \"audience_name\": [\n",
    "        \"rng_installs__all_trg_72510\",\n",
    "        \"rng_installs__auto_trg_72510\",\n",
    "        \"rng_installs__finance_trg_72510\",\n",
    "        \"rng_installs__estate_trg_72510\",\n",
    "        \"rng_installs__soc_med_trg_72510\",\n",
    "        \"rng_installs__travel_trg_72510\",\n",
    "        \"rng_installs__sport_trg_72510\",\n",
    "        \"rng_installs__leisure_trg_72510\",\n",
    "        \"rng_installs__dating_trg_72510\",\n",
    "        \"rng_installs__games_trg_72510\",\n",
    "        \"rng_installs__other_trg_72510\",\n",
    "        \"rng_installs__education_trg_72510\",\n",
    "        \"rng_installs__work_trg_72510\",\n",
    "        \"rng_installs__fmcg_trg_72510\",\n",
    "        \"rng_installs__potency_trg_72510\",\n",
    "        \"rng_installs__medicine_trg_72510\",\n",
    "        \"rng_installs__allclothes_trg_72510\",\n",
    "        \"rng_installs__jewelry_trg_72510\",\n",
    "        \"rng_installs__telecom_trg_72510\",\n",
    "        \"rng_installs__photovideo_trg_72510\",\n",
    "        \"rng_installs__forbsn_trg_72510\",\n",
    "        \"rng_installs__animals_trg_72510\",\n",
    "        \"rng_installs__technics_trg_72510\",\n",
    "        \"rng_installs__kids_e_comm_trg_72510\",\n",
    "        \"rng_installs__casino_trg_72510\"\n",
    "      ],\n",
    "      \"category\": \"positive\",\n",
    "      \"uid_type\": [\n",
    "        \"GAID\"\n",
    "      ]\n",
    "    },\n",
    "    \"max_dt_diff\": 0,\n",
    "    \"export_columns\": {\n",
    "      \"uid\": \"uid\",\n",
    "      \"uid_type\": \"uid_type\",\n",
    "      \"bu_link_id\": {\n",
    "        \"expr\": \"CASE WHEN audience_name = 'rng_installs__auto_trg_72510' THEN 1 WHEN audience_name = 'rng_installs__finance_trg_72510' THEN 2 WHEN audience_name = 'rng_installs__estate_trg_72510' THEN 3 WHEN audience_name = 'rng_installs__soc_med_trg_72510' THEN 4 WHEN audience_name = 'rng_installs__travel_trg_72510' THEN 5 WHEN audience_name = 'rng_installs__sport_trg_72510' THEN 6 WHEN audience_name = 'rng_installs__leisure_trg_72510' THEN 7 WHEN audience_name = 'rng_installs__dating_trg_72510' THEN 8 WHEN audience_name = 'rng_installs__games_trg_72510' THEN 9 WHEN audience_name = 'rng_installs__other_trg_72510' THEN 10 WHEN audience_name = 'rng_installs__education_trg_72510' THEN 11 WHEN audience_name = 'rng_installs__work_trg_72510' THEN 12 WHEN audience_name = 'rng_installs__fmcg_trg_72510' THEN 13 WHEN audience_name = 'rng_installs__potency_trg_72510' THEN 14 WHEN audience_name = 'rng_installs__medicine_trg_72510' THEN 15 WHEN audience_name = 'rng_installs__allclothes_trg_72510' THEN 16 WHEN audience_name = 'rng_installs__jewelry_trg_72510' THEN 17 WHEN audience_name = 'rng_installs__telecom_trg_72510' THEN 18 WHEN audience_name = 'rng_installs__photovideo_trg_72510' THEN 19 WHEN audience_name = 'rng_installs__forbsn_trg_72510' THEN 20 WHEN audience_name = 'rng_installs__animals_trg_72510' THEN 21 WHEN audience_name = 'rng_installs__technics_trg_72510' THEN 22 WHEN audience_name = 'rng_installs__kids_e_comm_trg_72510' THEN 23 WHEN audience_name = 'rng_installs__casino_trg_72510' THEN 24 ELSE 0 END\",\n",
    "        \"link_type\": \"AggBannerTopic\"\n",
    "      },\n",
    "      \"feature\": \"map_values_ordered(user_dmdesc.collect(audience_name, cast((CASE WHEN audience_name = 'rng_installs__all_trg_72510' AND scores_raw[0] < 0.25 THEN 1 WHEN audience_name = 'rng_installs__all_trg_72510' AND scores_raw[0] < 0.32 THEN 2 WHEN audience_name = 'rng_installs__all_trg_72510' AND scores_raw[0] < 0.37 THEN 3 WHEN audience_name = 'rng_installs__all_trg_72510' AND scores_raw[0] < 0.42 THEN 4 WHEN audience_name = 'rng_installs__all_trg_72510' AND scores_raw[0] < 0.47 THEN 5 WHEN audience_name = 'rng_installs__all_trg_72510' AND scores_raw[0] < 0.51 THEN 6 WHEN audience_name = 'rng_installs__all_trg_72510' AND scores_raw[0] < 0.57 THEN 7 WHEN audience_name = 'rng_installs__all_trg_72510' AND scores_raw[0] < 0.63 THEN 8 WHEN audience_name = 'rng_installs__all_trg_72510' AND scores_raw[0] < 0.72 THEN 9 WHEN audience_name = 'rng_installs__all_trg_72510' AND scores_raw[0] < 1.01 THEN 10 WHEN audience_name = 'rng_installs__soc_med_trg_72510' AND scores_raw[0] < 0.24 THEN 1 WHEN audience_name = 'rng_installs__soc_med_trg_72510' AND scores_raw[0] < 0.31 THEN 2 WHEN audience_name = 'rng_installs__soc_med_trg_72510' AND scores_raw[0] < 0.37 THEN 3 WHEN audience_name = 'rng_installs__soc_med_trg_72510' AND scores_raw[0] < 0.42 THEN 4 WHEN audience_name = 'rng_installs__soc_med_trg_72510' AND scores_raw[0] < 0.47 THEN 5 WHEN audience_name = 'rng_installs__soc_med_trg_72510' AND scores_raw[0] < 0.51 THEN 6 WHEN audience_name = 'rng_installs__soc_med_trg_72510' AND scores_raw[0] < 0.57 THEN 7 WHEN audience_name = 'rng_installs__soc_med_trg_72510' AND scores_raw[0] < 0.63 THEN 8 WHEN audience_name = 'rng_installs__soc_med_trg_72510' AND scores_raw[0] < 0.71 THEN 9 WHEN audience_name = 'rng_installs__soc_med_trg_72510' AND scores_raw[0] < 1.01 THEN 10 WHEN audience_name = 'rng_installs__kids_e_comm_trg_72510' AND scores_raw[0] < 0.31 THEN 1 WHEN audience_name = 'rng_installs__kids_e_comm_trg_72510' AND scores_raw[0] < 0.42 THEN 2 WHEN audience_name = 'rng_installs__kids_e_comm_trg_72510' AND scores_raw[0] < 0.51 THEN 3 WHEN audience_name = 'rng_installs__kids_e_comm_trg_72510' AND scores_raw[0] < 0.59 THEN 4 WHEN audience_name = 'rng_installs__kids_e_comm_trg_72510' AND scores_raw[0] < 0.67 THEN 5 WHEN audience_name = 'rng_installs__kids_e_comm_trg_72510' AND scores_raw[0] < 0.75 THEN 6 WHEN audience_name = 'rng_installs__kids_e_comm_trg_72510' AND scores_raw[0] < 0.83 THEN 7 WHEN audience_name = 'rng_installs__kids_e_comm_trg_72510' AND scores_raw[0] < 0.89 THEN 8 WHEN audience_name = 'rng_installs__kids_e_comm_trg_72510' AND scores_raw[0] < 0.94 THEN 9 WHEN audience_name = 'rng_installs__kids_e_comm_trg_72510' AND scores_raw[0] < 1.01 THEN 10 WHEN audience_name = 'rng_installs__other_trg_72510' AND scores_raw[0] < 0.24 THEN 1 WHEN audience_name = 'rng_installs__other_trg_72510' AND scores_raw[0] < 0.36 THEN 2 WHEN audience_name = 'rng_installs__other_trg_72510' AND scores_raw[0] < 0.48 THEN 3 WHEN audience_name = 'rng_installs__other_trg_72510' AND scores_raw[0] < 0.59 THEN 4 WHEN audience_name = 'rng_installs__other_trg_72510' AND scores_raw[0] < 0.7 THEN 5 WHEN audience_name = 'rng_installs__other_trg_72510' AND scores_raw[0] < 0.8 THEN 6 WHEN audience_name = 'rng_installs__other_trg_72510' AND scores_raw[0] < 0.88 THEN 7 WHEN audience_name = 'rng_installs__other_trg_72510' AND scores_raw[0] < 0.94 THEN 8 WHEN audience_name = 'rng_installs__other_trg_72510' AND scores_raw[0] < 0.98 THEN 9 WHEN audience_name = 'rng_installs__other_trg_72510' AND scores_raw[0] < 1.01 THEN 10 WHEN audience_name = 'rng_installs__leisure_trg_72510' AND scores_raw[0] < 0.25 THEN 1 WHEN audience_name = 'rng_installs__leisure_trg_72510' AND scores_raw[0] < 0.39 THEN 2 WHEN audience_name = 'rng_installs__leisure_trg_72510' AND scores_raw[0] < 0.51 THEN 3 WHEN audience_name = 'rng_installs__leisure_trg_72510' AND scores_raw[0] < 0.62 THEN 4 WHEN audience_name = 'rng_installs__leisure_trg_72510' AND scores_raw[0] < 0.71 THEN 5 WHEN audience_name = 'rng_installs__leisure_trg_72510' AND scores_raw[0] < 0.78 THEN 6 WHEN audience_name = 'rng_installs__leisure_trg_72510' AND scores_raw[0] < 0.84 THEN 7 WHEN audience_name = 'rng_installs__leisure_trg_72510' AND scores_raw[0] < 0.9 THEN 8 WHEN audience_name = 'rng_installs__leisure_trg_72510' AND scores_raw[0] < 0.95 THEN 9 WHEN audience_name = 'rng_installs__leisure_trg_72510' AND scores_raw[0] < 1.01 THEN 10 WHEN audience_name = 'rng_installs__medicine_trg_72510' AND scores_raw[0] < 0.2 THEN 1 WHEN audience_name = 'rng_installs__medicine_trg_72510' AND scores_raw[0] < 0.3 THEN 2 WHEN audience_name = 'rng_installs__medicine_trg_72510' AND scores_raw[0] < 0.4 THEN 3 WHEN audience_name = 'rng_installs__medicine_trg_72510' AND scores_raw[0] < 0.49 THEN 4 WHEN audience_name = 'rng_installs__medicine_trg_72510' AND scores_raw[0] < 0.59 THEN 5 WHEN audience_name = 'rng_installs__medicine_trg_72510' AND scores_raw[0] < 0.66 THEN 6 WHEN audience_name = 'rng_installs__medicine_trg_72510' AND scores_raw[0] < 0.73 THEN 7 WHEN audience_name = 'rng_installs__medicine_trg_72510' AND scores_raw[0] < 0.8 THEN 8 WHEN audience_name = 'rng_installs__medicine_trg_72510' AND scores_raw[0] < 0.88 THEN 9 WHEN audience_name = 'rng_installs__medicine_trg_72510' AND scores_raw[0] < 1.01 THEN 10 WHEN audience_name = 'rng_installs__fmcg_trg_72510' AND scores_raw[0] < 0.22 THEN 1 WHEN audience_name = 'rng_installs__fmcg_trg_72510' AND scores_raw[0] < 0.33 THEN 2 WHEN audience_name = 'rng_installs__fmcg_trg_72510' AND scores_raw[0] < 0.43 THEN 3 WHEN audience_name = 'rng_installs__fmcg_trg_72510' AND scores_raw[0] < 0.5 THEN 4 WHEN audience_name = 'rng_installs__fmcg_trg_72510' AND scores_raw[0] < 0.57 THEN 5 WHEN audience_name = 'rng_installs__fmcg_trg_72510' AND scores_raw[0] < 0.65 THEN 6 WHEN audience_name = 'rng_installs__fmcg_trg_72510' AND scores_raw[0] < 0.71 THEN 7 WHEN audience_name = 'rng_installs__fmcg_trg_72510' AND scores_raw[0] < 0.79 THEN 8 WHEN audience_name = 'rng_installs__fmcg_trg_72510' AND scores_raw[0] < 0.85 THEN 9 WHEN audience_name = 'rng_installs__fmcg_trg_72510' AND scores_raw[0] < 1.01 THEN 10 WHEN audience_name = 'rng_installs__games_trg_72510' AND scores_raw[0] < 0.43 THEN 1 WHEN audience_name = 'rng_installs__games_trg_72510' AND scores_raw[0] < 0.56 THEN 2 WHEN audience_name = 'rng_installs__games_trg_72510' AND scores_raw[0] < 0.65 THEN 3 WHEN audience_name = 'rng_installs__games_trg_72510' AND scores_raw[0] < 0.73 THEN 4 WHEN audience_name = 'rng_installs__games_trg_72510' AND scores_raw[0] < 0.79 THEN 5 WHEN audience_name = 'rng_installs__games_trg_72510' AND scores_raw[0] < 0.84 THEN 6 WHEN audience_name = 'rng_installs__games_trg_72510' AND scores_raw[0] < 0.89 THEN 7 WHEN audience_name = 'rng_installs__games_trg_72510' AND scores_raw[0] < 0.93 THEN 8 WHEN audience_name = 'rng_installs__games_trg_72510' AND scores_raw[0] < 0.96 THEN 9 WHEN audience_name = 'rng_installs__games_trg_72510' AND scores_raw[0] < 1.01 THEN 10 WHEN audience_name = 'rng_installs__auto_trg_72510' AND scores_raw[0] < 0.22 THEN 1 WHEN audience_name = 'rng_installs__auto_trg_72510' AND scores_raw[0] < 0.32 THEN 2 WHEN audience_name = 'rng_installs__auto_trg_72510' AND scores_raw[0] < 0.42 THEN 3 WHEN audience_name = 'rng_installs__auto_trg_72510' AND scores_raw[0] < 0.51 THEN 4 WHEN audience_name = 'rng_installs__auto_trg_72510' AND scores_raw[0] < 0.6 THEN 5 WHEN audience_name = 'rng_installs__auto_trg_72510' AND scores_raw[0] < 0.68 THEN 6 WHEN audience_name = 'rng_installs__auto_trg_72510' AND scores_raw[0] < 0.77 THEN 7 WHEN audience_name = 'rng_installs__auto_trg_72510' AND scores_raw[0] < 0.85 THEN 8 WHEN audience_name = 'rng_installs__auto_trg_72510' AND scores_raw[0] < 0.92 THEN 9 WHEN audience_name = 'rng_installs__auto_trg_72510' AND scores_raw[0] < 1.01 THEN 10 WHEN audience_name = 'rng_installs__dating_trg_72510' AND scores_raw[0] < 0.38 THEN 1 WHEN audience_name = 'rng_installs__dating_trg_72510' AND scores_raw[0] < 0.56 THEN 2 WHEN audience_name = 'rng_installs__dating_trg_72510' AND scores_raw[0] < 0.69 THEN 3 WHEN audience_name = 'rng_installs__dating_trg_72510' AND scores_raw[0] < 0.78 THEN 4 WHEN audience_name = 'rng_installs__dating_trg_72510' AND scores_raw[0] < 0.85 THEN 5 WHEN audience_name = 'rng_installs__dating_trg_72510' AND scores_raw[0] < 0.9 THEN 6 WHEN audience_name = 'rng_installs__dating_trg_72510' AND scores_raw[0] < 0.94 THEN 7 WHEN audience_name = 'rng_installs__dating_trg_72510' AND scores_raw[0] < 0.97 THEN 8 WHEN audience_name = 'rng_installs__dating_trg_72510' AND scores_raw[0] < 0.98 THEN 9 WHEN audience_name = 'rng_installs__dating_trg_72510' AND scores_raw[0] < 1.01 THEN 10 WHEN audience_name = 'rng_installs__sport_trg_72510' AND scores_raw[0] < 0.2 THEN 1 WHEN audience_name = 'rng_installs__sport_trg_72510' AND scores_raw[0] < 0.38 THEN 2 WHEN audience_name = 'rng_installs__sport_trg_72510' AND scores_raw[0] < 0.55 THEN 3 WHEN audience_name = 'rng_installs__sport_trg_72510' AND scores_raw[0] < 0.67 THEN 4 WHEN audience_name = 'rng_installs__sport_trg_72510' AND scores_raw[0] < 0.78 THEN 5 WHEN audience_name = 'rng_installs__sport_trg_72510' AND scores_raw[0] < 0.85 THEN 6 WHEN audience_name = 'rng_installs__sport_trg_72510' AND scores_raw[0] < 0.91 THEN 7 WHEN audience_name = 'rng_installs__sport_trg_72510' AND scores_raw[0] < 0.95 THEN 8 WHEN audience_name = 'rng_installs__sport_trg_72510' AND scores_raw[0] < 0.98 THEN 9 WHEN audience_name = 'rng_installs__sport_trg_72510' AND scores_raw[0] < 1.01 THEN 10 WHEN audience_name = 'rng_installs__finance_trg_72510' AND scores_raw[0] < 0.29 THEN 1 WHEN audience_name = 'rng_installs__finance_trg_72510' AND scores_raw[0] < 0.43 THEN 2 WHEN audience_name = 'rng_installs__finance_trg_72510' AND scores_raw[0] < 0.54 THEN 3 WHEN audience_name = 'rng_installs__finance_trg_72510' AND scores_raw[0] < 0.63 THEN 4 WHEN audience_name = 'rng_installs__finance_trg_72510' AND scores_raw[0] < 0.7 THEN 5 WHEN audience_name = 'rng_installs__finance_trg_72510' AND scores_raw[0] < 0.77 THEN 6 WHEN audience_name = 'rng_installs__finance_trg_72510' AND scores_raw[0] < 0.84 THEN 7 WHEN audience_name = 'rng_installs__finance_trg_72510' AND scores_raw[0] < 0.89 THEN 8 WHEN audience_name = 'rng_installs__finance_trg_72510' AND scores_raw[0] < 0.94 THEN 9 WHEN audience_name = 'rng_installs__finance_trg_72510' AND scores_raw[0] < 1.01 THEN 10 WHEN audience_name = 'rng_installs__forbsn_trg_72510' AND scores_raw[0] < 0.04 THEN 1 WHEN audience_name = 'rng_installs__forbsn_trg_72510' AND scores_raw[0] < 0.1 THEN 2 WHEN audience_name = 'rng_installs__forbsn_trg_72510' AND scores_raw[0] < 0.18 THEN 3 WHEN audience_name = 'rng_installs__forbsn_trg_72510' AND scores_raw[0] < 0.28 THEN 4 WHEN audience_name = 'rng_installs__forbsn_trg_72510' AND scores_raw[0] < 0.43 THEN 5 WHEN audience_name = 'rng_installs__forbsn_trg_72510' AND scores_raw[0] < 0.59 THEN 6 WHEN audience_name = 'rng_installs__forbsn_trg_72510' AND scores_raw[0] < 0.69 THEN 7 WHEN audience_name = 'rng_installs__forbsn_trg_72510' AND scores_raw[0] < 0.82 THEN 8 WHEN audience_name = 'rng_installs__forbsn_trg_72510' AND scores_raw[0] < 0.92 THEN 9 WHEN audience_name = 'rng_installs__forbsn_trg_72510' AND scores_raw[0] < 1.01 THEN 10 WHEN audience_name = 'rng_installs__travel_trg_72510' AND scores_raw[0] < 0.19 THEN 1 WHEN audience_name = 'rng_installs__travel_trg_72510' AND scores_raw[0] < 0.32 THEN 2 WHEN audience_name = 'rng_installs__travel_trg_72510' AND scores_raw[0] < 0.46 THEN 3 WHEN audience_name = 'rng_installs__travel_trg_72510' AND scores_raw[0] < 0.58 THEN 4 WHEN audience_name = 'rng_installs__travel_trg_72510' AND scores_raw[0] < 0.67 THEN 5 WHEN audience_name = 'rng_installs__travel_trg_72510' AND scores_raw[0] < 0.76 THEN 6 WHEN audience_name = 'rng_installs__travel_trg_72510' AND scores_raw[0] < 0.83 THEN 7 WHEN audience_name = 'rng_installs__travel_trg_72510' AND scores_raw[0] < 0.89 THEN 8 WHEN audience_name = 'rng_installs__travel_trg_72510' AND scores_raw[0] < 0.94 THEN 9 WHEN audience_name = 'rng_installs__travel_trg_72510' AND scores_raw[0] < 1.01 THEN 10 WHEN audience_name = 'rng_installs__allclothes_trg_72510' AND scores_raw[0] < 0.24 THEN 1 WHEN audience_name = 'rng_installs__allclothes_trg_72510' AND scores_raw[0] < 0.3 THEN 2 WHEN audience_name = 'rng_installs__allclothes_trg_72510' AND scores_raw[0] < 0.36 THEN 3 WHEN audience_name = 'rng_installs__allclothes_trg_72510' AND scores_raw[0] < 0.41 THEN 4 WHEN audience_name = 'rng_installs__allclothes_trg_72510' AND scores_raw[0] < 0.45 THEN 5 WHEN audience_name = 'rng_installs__allclothes_trg_72510' AND scores_raw[0] < 0.5 THEN 6 WHEN audience_name = 'rng_installs__allclothes_trg_72510' AND scores_raw[0] < 0.56 THEN 7 WHEN audience_name = 'rng_installs__allclothes_trg_72510' AND scores_raw[0] < 0.62 THEN 8 WHEN audience_name = 'rng_installs__allclothes_trg_72510' AND scores_raw[0] < 0.71 THEN 9 WHEN audience_name = 'rng_installs__allclothes_trg_72510' AND scores_raw[0] < 1.01 THEN 10 WHEN audience_name = 'rng_installs__technics_trg_72510' AND scores_raw[0] < 0.11 THEN 1 WHEN audience_name = 'rng_installs__technics_trg_72510' AND scores_raw[0] < 0.17 THEN 2 WHEN audience_name = 'rng_installs__technics_trg_72510' AND scores_raw[0] < 0.25 THEN 3 WHEN audience_name = 'rng_installs__technics_trg_72510' AND scores_raw[0] < 0.35 THEN 4 WHEN audience_name = 'rng_installs__technics_trg_72510' AND scores_raw[0] < 0.46 THEN 5 WHEN audience_name = 'rng_installs__technics_trg_72510' AND scores_raw[0] < 0.57 THEN 6 WHEN audience_name = 'rng_installs__technics_trg_72510' AND scores_raw[0] < 0.7 THEN 7 WHEN audience_name = 'rng_installs__technics_trg_72510' AND scores_raw[0] < 0.78 THEN 8 WHEN audience_name = 'rng_installs__technics_trg_72510' AND scores_raw[0] < 0.88 THEN 9 WHEN audience_name = 'rng_installs__technics_trg_72510' AND scores_raw[0] < 1.01 THEN 10 WHEN audience_name = 'rng_installs__estate_trg_72510' AND scores_raw[0] < 0.13 THEN 1 WHEN audience_name = 'rng_installs__estate_trg_72510' AND scores_raw[0] < 0.24 THEN 2 WHEN audience_name = 'rng_installs__estate_trg_72510' AND scores_raw[0] < 0.34 THEN 3 WHEN audience_name = 'rng_installs__estate_trg_72510' AND scores_raw[0] < 0.44 THEN 4 WHEN audience_name = 'rng_installs__estate_trg_72510' AND scores_raw[0] < 0.53 THEN 5 WHEN audience_name = 'rng_installs__estate_trg_72510' AND scores_raw[0] < 0.63 THEN 6 WHEN audience_name = 'rng_installs__estate_trg_72510' AND scores_raw[0] < 0.7 THEN 7 WHEN audience_name = 'rng_installs__estate_trg_72510' AND scores_raw[0] < 0.78 THEN 8 WHEN audience_name = 'rng_installs__estate_trg_72510' AND scores_raw[0] < 0.87 THEN 9 WHEN audience_name = 'rng_installs__estate_trg_72510' AND scores_raw[0] < 1.01 THEN 10 WHEN audience_name = 'rng_installs__potency_trg_72510' AND scores_raw[0] < 0.25 THEN 1 WHEN audience_name = 'rng_installs__potency_trg_72510' AND scores_raw[0] < 0.32 THEN 2 WHEN audience_name = 'rng_installs__potency_trg_72510' AND scores_raw[0] < 0.37 THEN 3 WHEN audience_name = 'rng_installs__potency_trg_72510' AND scores_raw[0] < 0.42 THEN 4 WHEN audience_name = 'rng_installs__potency_trg_72510' AND scores_raw[0] < 0.47 THEN 5 WHEN audience_name = 'rng_installs__potency_trg_72510' AND scores_raw[0] < 0.51 THEN 6 WHEN audience_name = 'rng_installs__potency_trg_72510' AND scores_raw[0] < 0.57 THEN 7 WHEN audience_name = 'rng_installs__potency_trg_72510' AND scores_raw[0] < 0.63 THEN 8 WHEN audience_name = 'rng_installs__potency_trg_72510' AND scores_raw[0] < 0.72 THEN 9 WHEN audience_name = 'rng_installs__potency_trg_72510' AND scores_raw[0] < 1.01 THEN 10 WHEN audience_name = 'rng_installs__work_trg_72510' AND scores_raw[0] < 0.16 THEN 1 WHEN audience_name = 'rng_installs__work_trg_72510' AND scores_raw[0] < 0.3 THEN 2 WHEN audience_name = 'rng_installs__work_trg_72510' AND scores_raw[0] < 0.44 THEN 3 WHEN audience_name = 'rng_installs__work_trg_72510' AND scores_raw[0] < 0.55 THEN 4 WHEN audience_name = 'rng_installs__work_trg_72510' AND scores_raw[0] < 0.66 THEN 5 WHEN audience_name = 'rng_installs__work_trg_72510' AND scores_raw[0] < 0.73 THEN 6 WHEN audience_name = 'rng_installs__work_trg_72510' AND scores_raw[0] < 0.8 THEN 7 WHEN audience_name = 'rng_installs__work_trg_72510' AND scores_raw[0] < 0.87 THEN 8 WHEN audience_name = 'rng_installs__work_trg_72510' AND scores_raw[0] < 0.93 THEN 9 WHEN audience_name = 'rng_installs__work_trg_72510' AND scores_raw[0] < 1.01 THEN 10 WHEN audience_name = 'rng_installs__photovideo_trg_72510' AND scores_raw[0] < 0.24 THEN 1 WHEN audience_name = 'rng_installs__photovideo_trg_72510' AND scores_raw[0] < 0.31 THEN 2 WHEN audience_name = 'rng_installs__photovideo_trg_72510' AND scores_raw[0] < 0.36 THEN 3 WHEN audience_name = 'rng_installs__photovideo_trg_72510' AND scores_raw[0] < 0.41 THEN 4 WHEN audience_name = 'rng_installs__photovideo_trg_72510' AND scores_raw[0] < 0.46 THEN 5 WHEN audience_name = 'rng_installs__photovideo_trg_72510' AND scores_raw[0] < 0.51 THEN 6 WHEN audience_name = 'rng_installs__photovideo_trg_72510' AND scores_raw[0] < 0.56 THEN 7 WHEN audience_name = 'rng_installs__photovideo_trg_72510' AND scores_raw[0] < 0.62 THEN 8 WHEN audience_name = 'rng_installs__photovideo_trg_72510' AND scores_raw[0] < 0.71 THEN 9 WHEN audience_name = 'rng_installs__photovideo_trg_72510' AND scores_raw[0] < 1.01 THEN 10 WHEN audience_name = 'rng_installs__telecom_trg_72510' AND scores_raw[0] < 0.24 THEN 1 WHEN audience_name = 'rng_installs__telecom_trg_72510' AND scores_raw[0] < 0.31 THEN 2 WHEN audience_name = 'rng_installs__telecom_trg_72510' AND scores_raw[0] < 0.36 THEN 3 WHEN audience_name = 'rng_installs__telecom_trg_72510' AND scores_raw[0] < 0.41 THEN 4 WHEN audience_name = 'rng_installs__telecom_trg_72510' AND scores_raw[0] < 0.45 THEN 5 WHEN audience_name = 'rng_installs__telecom_trg_72510' AND scores_raw[0] < 0.5 THEN 6 WHEN audience_name = 'rng_installs__telecom_trg_72510' AND scores_raw[0] < 0.56 THEN 7 WHEN audience_name = 'rng_installs__telecom_trg_72510' AND scores_raw[0] < 0.62 THEN 8 WHEN audience_name = 'rng_installs__telecom_trg_72510' AND scores_raw[0] < 0.71 THEN 9 WHEN audience_name = 'rng_installs__telecom_trg_72510' AND scores_raw[0] < 1.01 THEN 10 WHEN audience_name = 'rng_installs__jewelry_trg_72510' AND scores_raw[0] < 0.24 THEN 1 WHEN audience_name = 'rng_installs__jewelry_trg_72510' AND scores_raw[0] < 0.31 THEN 2 WHEN audience_name = 'rng_installs__jewelry_trg_72510' AND scores_raw[0] < 0.36 THEN 3 WHEN audience_name = 'rng_installs__jewelry_trg_72510' AND scores_raw[0] < 0.41 THEN 4 WHEN audience_name = 'rng_installs__jewelry_trg_72510' AND scores_raw[0] < 0.45 THEN 5 WHEN audience_name = 'rng_installs__jewelry_trg_72510' AND scores_raw[0] < 0.5 THEN 6 WHEN audience_name = 'rng_installs__jewelry_trg_72510' AND scores_raw[0] < 0.56 THEN 7 WHEN audience_name = 'rng_installs__jewelry_trg_72510' AND scores_raw[0] < 0.63 THEN 8 WHEN audience_name = 'rng_installs__jewelry_trg_72510' AND scores_raw[0] < 0.71 THEN 9 WHEN audience_name = 'rng_installs__jewelry_trg_72510' AND scores_raw[0] < 1.01 THEN 10 WHEN audience_name = 'rng_installs__education_trg_72510' AND scores_raw[0] < 0.05 THEN 1 WHEN audience_name = 'rng_installs__education_trg_72510' AND scores_raw[0] < 0.1 THEN 2 WHEN audience_name = 'rng_installs__education_trg_72510' AND scores_raw[0] < 0.14 THEN 3 WHEN audience_name = 'rng_installs__education_trg_72510' AND scores_raw[0] < 0.21 THEN 4 WHEN audience_name = 'rng_installs__education_trg_72510' AND scores_raw[0] < 0.5 THEN 5 WHEN audience_name = 'rng_installs__education_trg_72510' AND scores_raw[0] < 0.66 THEN 6 WHEN audience_name = 'rng_installs__education_trg_72510' AND scores_raw[0] < 0.77 THEN 7 WHEN audience_name = 'rng_installs__education_trg_72510' AND scores_raw[0] < 0.9 THEN 8 WHEN audience_name = 'rng_installs__education_trg_72510' AND scores_raw[0] < 0.91 THEN 9 WHEN audience_name = 'rng_installs__education_trg_72510' AND scores_raw[0] < 1.01 THEN 10 WHEN audience_name = 'rng_installs__animals_trg_72510' AND scores_raw[0] < 0.24 THEN 1 WHEN audience_name = 'rng_installs__animals_trg_72510' AND scores_raw[0] < 0.31 THEN 2 WHEN audience_name = 'rng_installs__animals_trg_72510' AND scores_raw[0] < 0.36 THEN 3 WHEN audience_name = 'rng_installs__animals_trg_72510' AND scores_raw[0] < 0.41 THEN 4 WHEN audience_name = 'rng_installs__animals_trg_72510' AND scores_raw[0] < 0.45 THEN 5 WHEN audience_name = 'rng_installs__animals_trg_72510' AND scores_raw[0] < 0.5 THEN 6 WHEN audience_name = 'rng_installs__animals_trg_72510' AND scores_raw[0] < 0.56 THEN 7 WHEN audience_name = 'rng_installs__animals_trg_72510' AND scores_raw[0] < 0.62 THEN 8 WHEN audience_name = 'rng_installs__animals_trg_72510' AND scores_raw[0] < 0.71 THEN 9 WHEN audience_name = 'rng_installs__animals_trg_72510' AND scores_raw[0] < 1.01 THEN 10 WHEN audience_name = 'rng_installs__casino_trg_72510' AND scores_raw[0] < 0.24 THEN 1 WHEN audience_name = 'rng_installs__casino_trg_72510' AND scores_raw[0] < 0.31 THEN 2 WHEN audience_name = 'rng_installs__casino_trg_72510' AND scores_raw[0] < 0.36 THEN 3 WHEN audience_name = 'rng_installs__casino_trg_72510' AND scores_raw[0] < 0.41 THEN 4 WHEN audience_name = 'rng_installs__casino_trg_72510' AND scores_raw[0] < 0.45 THEN 5 WHEN audience_name = 'rng_installs__casino_trg_72510' AND scores_raw[0] < 0.5 THEN 6 WHEN audience_name = 'rng_installs__casino_trg_72510' AND scores_raw[0] < 0.55 THEN 7 WHEN audience_name = 'rng_installs__casino_trg_72510' AND scores_raw[0] < 0.62 THEN 8 WHEN audience_name = 'rng_installs__casino_trg_72510' AND scores_raw[0] < 0.7 THEN 9 WHEN audience_name = 'rng_installs__casino_trg_72510' AND scores_raw[0] < 1.01 THEN 10 ELSE 0 END) as float)), array('rng_installs__all_trg_72510', 'rng_installs__auto_trg_72510', 'rng_installs__finance_trg_72510', 'rng_installs__estate_trg_72510', 'rng_installs__soc_med_trg_72510', 'rng_installs__travel_trg_72510', 'rng_installs__sport_trg_72510', 'rng_installs__leisure_trg_72510', 'rng_installs__dating_trg_72510', 'rng_installs__games_trg_72510', 'rng_installs__other_trg_72510', 'rng_installs__education_trg_72510', 'rng_installs__work_trg_72510', 'rng_installs__fmcg_trg_72510', 'rng_installs__potency_trg_72510', 'rng_installs__medicine_trg_72510', 'rng_installs__allclothes_trg_72510', 'rng_installs__jewelry_trg_72510', 'rng_installs__telecom_trg_72510', 'rng_installs__photovideo_trg_72510', 'rng_installs__forbsn_trg_72510', 'rng_installs__animals_trg_72510', 'rng_installs__technics_trg_72510', 'rng_installs__kids_e_comm_trg_72510', 'rng_installs__casino_trg_72510'))\"\n",
    "    },\n",
    "    \"shuffle_partitions\": 1000,\n",
    "    \"force\": false,\n",
    "    \"status_urls\": [\n",
    "      \"http://dmcontrol.host/api/compose/jobrun/1182405/\"\n",
    "    ],\n",
    "    \"output_urls\": [\n",
    "      \"http://dmcontrol.host/api/compose/job/1142695/result/\"\n",
    "    ],\n",
    "    \"input_urls\": [\n",
    "      null\n",
    "    ],\n",
    "    \"log_url\": \"http://dmcontrol.host/api/compose/task/937183/log/\",\n",
    "    \"ctid\": \"prod_937183\"\n",
    "  }\n",
    "\"\"\""
   ]
  },
  {
   "cell_type": "code",
   "execution_count": 71,
   "metadata": {
    "collapsed": true
   },
   "outputs": [],
   "source": [
    "def prepare_config(config):\n",
    "    partitions_finder = FindPartitionsEngine(raise_on_invalid_table=False)\n",
    "    db = config[\"source_db\"]\n",
    "    table = config[\"source_table\"]\n",
    "    partition_conf = config.pop(\"source_partition_conf\")\n",
    "    max_dt = config[\"target_dt\"]\n",
    "    min_dt = add_days(max_dt, -config.pop(\"max_dt_diff\"))\n",
    "\n",
    "    source_partitions = partitions_finder.find(db, table, partition_conf, min_dt, max_dt)\n",
    "\n",
    "    if not source_partitions:\n",
    "        raise MissingDepsStatusException(\"Not found source partitions in Hive table {}.{}\".format(db, table))\n",
    "\n",
    "    config[\"source_partitions\"] = source_partitions\n",
    "    return config\n"
   ]
  },
  {
   "cell_type": "code",
   "execution_count": 72,
   "metadata": {
    "collapsed": true
   },
   "outputs": [],
   "source": [
    "app_config_dict = json.loads(app_config)\n",
    "# log(app_config_dict[\"export_columns\"][\"feature\"])\n",
    "task_config = prepare_config(app_config_dict)"
   ]
  },
  {
   "cell_type": "code",
   "execution_count": 30,
   "metadata": {
    "collapsed": true
   },
   "outputs": [],
   "source": [
    "# log((len(task_config[\"source_partitions\"]), task_config[\"source_partitions\"],))"
   ]
  },
  {
   "cell_type": "code",
   "execution_count": 90,
   "metadata": {
    "collapsed": true
   },
   "outputs": [],
   "source": [
    "source_db = task_config[\"source_db\"]\n",
    "source_table = task_config[\"source_table\"]\n",
    "source_partitions = task_config[\"source_partitions\"]\n",
    "\n",
    "df = sql_ctx.sql(\n",
    "    select_clause(database=source_db, table=source_table, partition_dicts=source_partitions)\n",
    ").persist()"
   ]
  },
  {
   "cell_type": "code",
   "execution_count": null,
   "metadata": {
    "collapsed": true
   },
   "outputs": [],
   "source": [
    "df.printSchema()\n",
    "df.show(truncate=False)"
   ]
  },
  {
   "cell_type": "code",
   "execution_count": 76,
   "metadata": {
    "collapsed": true
   },
   "outputs": [],
   "source": [
    "export_columns = task_config[\"export_columns\"]\n",
    "bu_link_id = export_columns.get(\"bu_link_id\")"
   ]
  },
  {
   "cell_type": "code",
   "execution_count": 77,
   "metadata": {
    "collapsed": true
   },
   "outputs": [],
   "source": [
    "key_columns = [\n",
    "            sqlfn.expr(\"uid2user({}, {})\".format(export_columns[\"uid\"], export_columns[\"uid_type\"])).alias(\n",
    "                \"user\"\n",
    "            )\n",
    "        ] + ([sqlfn.expr(bu_link_id[\"expr\"]).cast(\"string\").alias(\"bu_link_id\")] if bu_link_id else [])\n",
    "# log(key_columns)"
   ]
  },
  {
   "cell_type": "code",
   "execution_count": 78,
   "metadata": {
    "collapsed": true
   },
   "outputs": [],
   "source": [
    "for key in key_columns:\n",
    "    df = df.where(key.isNotNull())"
   ]
  },
  {
   "cell_type": "code",
   "execution_count": 79,
   "metadata": {
    "collapsed": true
   },
   "outputs": [],
   "source": [
    "# df.show()"
   ]
  },
  {
   "cell_type": "code",
   "execution_count": 80,
   "metadata": {
    "collapsed": true
   },
   "outputs": [],
   "source": [
    "df = df.groupBy(*key_columns).agg(sqlfn.expr(export_columns[\"feature\"]).alias(\"feature\"))"
   ]
  },
  {
   "cell_type": "code",
   "execution_count": 81,
   "metadata": {
    "collapsed": true
   },
   "outputs": [],
   "source": [
    "df = df.persist()"
   ]
  },
  {
   "cell_type": "code",
   "execution_count": null,
   "metadata": {
    "collapsed": true
   },
   "outputs": [],
   "source": [
    "df.printSchema()\n",
    "df.show(truncate=False)"
   ]
  },
  {
   "cell_type": "code",
   "execution_count": null,
   "metadata": {
    "collapsed": true
   },
   "outputs": [],
   "source": [
    "feature_type = df.schema[\"feature\"].dataType\n",
    "df = df.dropna()\n",
    "df.show(truncate=False)"
   ]
  },
  {
   "cell_type": "code",
   "execution_count": 85,
   "metadata": {
    "collapsed": true
   },
   "outputs": [],
   "source": [
    "arr_filter = \"size({col}) > 0 and not exists({col}, _x -> isnull(_x) or isnan(_x))\""
   ]
  },
  {
   "cell_type": "code",
   "execution_count": 86,
   "metadata": {
    "collapsed": true
   },
   "outputs": [
    {
     "name": "stdout",
     "output_type": "stream",
     "text": [
      "+----+----------+-------+\n",
      "|user|bu_link_id|feature|\n",
      "+----+----------+-------+\n",
      "+----+----------+-------+\n",
      "\n"
     ]
    }
   ],
   "source": [
    "# array<float>\n",
    "df = df.where(arr_filter.format(col=\"feature\"))\n",
    "df.show()"
   ]
  },
  {
   "cell_type": "code",
   "execution_count": 89,
   "metadata": {
    "collapsed": true
   },
   "outputs": [
    {
     "name": "stdout",
     "output_type": "stream",
     "text": [
      "+----+----------+-------+\n",
      "|user|bu_link_id|feature|\n",
      "+----+----------+-------+\n",
      "+----+----------+-------+\n",
      "\n"
     ]
    }
   ],
   "source": [
    "max_collection_size = 100\n",
    "df = df.where(\"size(feature) <= {}\".format(max_collection_size))\n",
    "df.show()"
   ]
  },
  {
   "cell_type": "code",
   "execution_count": null,
   "metadata": {
    "collapsed": true
   },
   "outputs": [],
   "source": [
    "# check exported CSV"
   ]
  },
  {
   "cell_type": "code",
   "execution_count": 7,
   "metadata": {
    "collapsed": true
   },
   "outputs": [],
   "source": [
    "csv_path = \"/export/target/universal_features/rng_installs_predict/2021-10-13/\""
   ]
  },
  {
   "cell_type": "code",
   "execution_count": 8,
   "metadata": {
    "collapsed": true
   },
   "outputs": [],
   "source": [
    "csv_df = (\n",
    "    spark.read\n",
    "    .option(\"header\", True)\n",
    "    .option(\"delimiter\", \";\")\n",
    "    .csv(\"hdfs:\" + csv_path + \"*.csv\")\n",
    ")"
   ]
  },
  {
   "cell_type": "code",
   "execution_count": 9,
   "metadata": {
    "collapsed": true
   },
   "outputs": [
    {
     "name": "stdout",
     "output_type": "stream",
     "text": [
      "root\n",
      " |-- user: string (nullable = true)\n",
      " |-- link_type:AggBannerTopic: string (nullable = true)\n",
      " |-- num:rng_installs_predict: string (nullable = true)\n",
      "\n"
     ]
    }
   ],
   "source": [
    "csv_df.printSchema()"
   ]
  },
  {
   "cell_type": "code",
   "execution_count": 10,
   "metadata": {
    "collapsed": true
   },
   "outputs": [
    {
     "name": "stdout",
     "output_type": "stream",
     "text": [
      "+-----------------------------------------+------------------------+------------------------+\n",
      "|user                                     |link_type:AggBannerTopic|num:rng_installs_predict|\n",
      "+-----------------------------------------+------------------------+------------------------+\n",
      "|gaid:d75da36c-7e58-4380-b105-69268dd10024|18                      |4.0                     |\n",
      "|gaid:cef4142f-79a7-42b9-b577-944577ed4b63|4                       |7.0                     |\n",
      "|gaid:19ca186c-8680-4a6a-93ff-b37032ae4686|7                       |6.0                     |\n",
      "|gaid:bc053943-498f-49da-b3b3-c72d9dc826ba|18                      |2.0                     |\n",
      "|gaid:44e461ad-76da-482a-b6f2-e7c069820dac|12                      |1.0                     |\n",
      "|gaid:ffc7d51a-46f5-4e50-a89d-19c948bebc9c|8                       |1.0                     |\n",
      "|gaid:1f20eaf2-2124-482c-98c2-787789523ef5|21                      |4.0                     |\n",
      "|gaid:1e555bec-bc28-4037-9fec-8ef76ed12dea|9                       |8.0                     |\n",
      "|gaid:d5ed3231-921a-4ad6-9108-ed7a8154f9c5|11                      |5.0                     |\n",
      "|gaid:36667303-77e6-43b9-a739-02ec41599ed6|21                      |6.0                     |\n",
      "|gaid:d4fb4689-9349-4f82-b7ce-07a8954da4ee|18                      |1.0                     |\n",
      "|gaid:7c4a634f-bdc9-462f-8e43-fc224816b6d5|0                       |5.0                     |\n",
      "|gaid:cfc58384-7c2d-4ad1-af5c-37c835ebab08|19                      |1.0                     |\n",
      "|gaid:83e76d30-7f36-45d9-b7a4-eff8692b0a82|3                       |4.0                     |\n",
      "|gaid:65a51fd3-8352-47d7-9657-f7b614b4e576|12                      |1.0                     |\n",
      "|gaid:47e6f721-271c-46d7-b32c-602b8dd0faef|10                      |8.0                     |\n",
      "|gaid:2dc632aa-7a4d-437d-a701-3a4d255b8842|12                      |3.0                     |\n",
      "|gaid:313de318-20f8-4e00-98f0-91569ae69d9d|7                       |3.0                     |\n",
      "|gaid:a2dff880-5821-44a4-9a24-da3ac5697c03|14                      |2.0                     |\n",
      "|gaid:a37ecdd8-c3ab-40f2-98a7-c60d6cd5fe79|7                       |2.0                     |\n",
      "+-----------------------------------------+------------------------+------------------------+\n",
      "only showing top 20 rows\n",
      "\n"
     ]
    }
   ],
   "source": [
    "csv_df.show(truncate=False)"
   ]
  },
  {
   "cell_type": "code",
   "execution_count": 18,
   "metadata": {
    "collapsed": true
   },
   "outputs": [],
   "source": [
    "user_feature = (\n",
    "    csv_df\n",
    "    .select(\n",
    "        sqlfn.col(\"user\"), \n",
    "        sqlfn.col(\"link_type:AggBannerTopic\").alias(\"banner\"), \n",
    "        sqlfn.col(\"num:rng_installs_predict\").alias(\"score\")\n",
    "    )\n",
    "    .groupby(\"user\")\n",
    "    .agg(sqlfn.expr(\n",
    "        \"user_dmdesc.collect(banner, cast(score as float)) as feature\"\n",
    "    ))\n",
    ").persist()"
   ]
  },
  {
   "cell_type": "code",
   "execution_count": 19,
   "metadata": {
    "collapsed": true
   },
   "outputs": [
    {
     "name": "stdout",
     "output_type": "stream",
     "text": [
      "root\n",
      " |-- user: string (nullable = true)\n",
      " |-- feature: map (nullable = true)\n",
      " |    |-- key: string\n",
      " |    |-- value: float (valueContainsNull = true)\n",
      "\n"
     ]
    }
   ],
   "source": [
    "user_feature.printSchema()"
   ]
  },
  {
   "cell_type": "code",
   "execution_count": 20,
   "metadata": {
    "collapsed": true
   },
   "outputs": [
    {
     "name": "stdout",
     "output_type": "stream",
     "text": [
      "+-----------------------------------------+-------------------------------------------------------------------------------------------------------------------------------------------------------------------------------------------------------------------------------------------------------------------------------+\n",
      "|user                                     |feature                                                                                                                                                                                                                                                                        |\n",
      "+-----------------------------------------+-------------------------------------------------------------------------------------------------------------------------------------------------------------------------------------------------------------------------------------------------------------------------------+\n",
      "|gaid:000006e8-a85b-413f-adda-a9487783f178|[22 -> 1.0, 23 -> 1.0, 24 -> 1.0, 10 -> 1.0, 11 -> 1.0, 12 -> 1.0, 13 -> 1.0, 14 -> 1.0, 15 -> 1.0, 16 -> 1.0, 17 -> 1.0, 18 -> 1.0, 19 -> 1.0, 0 -> 1.0, 1 -> 1.0, 2 -> 1.0, 3 -> 1.0, 4 -> 1.0, 5 -> 1.0, 6 -> 1.0, 7 -> 1.0, 8 -> 1.0, 9 -> 1.0, 20 -> 1.0, 21 -> 1.0]      |\n",
      "|gaid:0000d38e-f51f-4f6a-b4b5-ec35fcb2c251|[22 -> 9.0, 23 -> 3.0, 24 -> 5.0, 10 -> 6.0, 11 -> 8.0, 12 -> 7.0, 13 -> 4.0, 14 -> 4.0, 15 -> 9.0, 16 -> 4.0, 17 -> 4.0, 18 -> 5.0, 19 -> 5.0, 0 -> 4.0, 1 -> 6.0, 2 -> 4.0, 3 -> 10.0, 4 -> 4.0, 5 -> 9.0, 6 -> 4.0, 7 -> 5.0, 8 -> 4.0, 9 -> 2.0, 20 -> 9.0, 21 -> 4.0]     |\n",
      "|gaid:0000d6ea-7ec7-45ac-8c01-4269b1ac8e97|[22 -> 10.0, 23 -> 3.0, 24 -> 8.0, 10 -> 4.0, 11 -> 8.0, 12 -> 5.0, 13 -> 8.0, 14 -> 8.0, 15 -> 9.0, 16 -> 9.0, 17 -> 9.0, 18 -> 9.0, 19 -> 8.0, 0 -> 8.0, 1 -> 5.0, 2 -> 5.0, 3 -> 9.0, 4 -> 9.0, 5 -> 6.0, 6 -> 8.0, 7 -> 3.0, 8 -> 9.0, 9 -> 3.0, 20 -> 9.0, 21 -> 9.0]     |\n",
      "|gaid:00010e9c-faaf-4449-8d9e-3f899bcec44b|[22 -> 6.0, 23 -> 1.0, 24 -> 2.0, 10 -> 2.0, 11 -> 6.0, 12 -> 5.0, 13 -> 2.0, 14 -> 3.0, 15 -> 4.0, 16 -> 2.0, 17 -> 3.0, 18 -> 3.0, 19 -> 3.0, 0 -> 2.0, 1 -> 8.0, 2 -> 5.0, 3 -> 6.0, 4 -> 2.0, 5 -> 4.0, 6 -> 1.0, 7 -> 3.0, 8 -> 5.0, 9 -> 3.0, 20 -> 9.0, 21 -> 3.0]      |\n",
      "|gaid:00012a8c-6b65-4e5c-be8e-b28c19777916|[22 -> 10.0, 23 -> 8.0, 24 -> 8.0, 10 -> 9.0, 11 -> 7.0, 12 -> 10.0, 13 -> 3.0, 14 -> 6.0, 15 -> 9.0, 16 -> 6.0, 17 -> 6.0, 18 -> 7.0, 19 -> 7.0, 0 -> 8.0, 1 -> 10.0, 2 -> 6.0, 3 -> 10.0, 4 -> 7.0, 5 -> 10.0, 6 -> 2.0, 7 -> 10.0, 8 -> 4.0, 9 -> 6.0, 20 -> 9.0, 21 -> 7.0]|\n",
      "|gaid:000160d5-b8bd-472d-a54a-57f5174e5eca|[22 -> 7.0, 23 -> 2.0, 24 -> 4.0, 10 -> 3.0, 11 -> 5.0, 12 -> 4.0, 13 -> 5.0, 14 -> 3.0, 15 -> 7.0, 16 -> 3.0, 17 -> 4.0, 18 -> 3.0, 19 -> 4.0, 0 -> 4.0, 1 -> 3.0, 2 -> 4.0, 3 -> 5.0, 4 -> 3.0, 5 -> 4.0, 6 -> 3.0, 7 -> 3.0, 8 -> 2.0, 9 -> 1.0, 20 -> 3.0, 21 -> 3.0]      |\n",
      "|gaid:0001bdbe-9b1f-4395-9d03-49e0453aa224|[22 -> 1.0, 23 -> 1.0, 24 -> 2.0, 10 -> 6.0, 11 -> 3.0, 12 -> 3.0, 13 -> 1.0, 14 -> 2.0, 15 -> 1.0, 16 -> 2.0, 17 -> 2.0, 18 -> 2.0, 19 -> 2.0, 0 -> 2.0, 1 -> 5.0, 2 -> 2.0, 3 -> 2.0, 4 -> 2.0, 5 -> 6.0, 6 -> 1.0, 7 -> 3.0, 8 -> 3.0, 9 -> 7.0, 20 -> 6.0, 21 -> 2.0]      |\n",
      "|gaid:0001e249-deff-4e7f-8ed4-07d0fd873c84|[22 -> 6.0, 23 -> 3.0, 24 -> 6.0, 10 -> 3.0, 11 -> 2.0, 12 -> 3.0, 13 -> 4.0, 14 -> 5.0, 15 -> 6.0, 16 -> 6.0, 17 -> 6.0, 18 -> 6.0, 19 -> 4.0, 0 -> 7.0, 1 -> 1.0, 2 -> 1.0, 3 -> 4.0, 4 -> 7.0, 5 -> 2.0, 6 -> 10.0, 7 -> 3.0, 8 -> 4.0, 9 -> 1.0, 20 -> 5.0, 21 -> 8.0]     |\n",
      "|gaid:00021907-fa07-4754-99c2-828f5f0010c1|[22 -> 3.0, 23 -> 1.0, 24 -> 1.0, 10 -> 1.0, 11 -> 3.0, 12 -> 3.0, 13 -> 1.0, 14 -> 1.0, 15 -> 1.0, 16 -> 1.0, 17 -> 1.0, 18 -> 1.0, 19 -> 1.0, 0 -> 1.0, 1 -> 1.0, 2 -> 7.0, 3 -> 2.0, 4 -> 1.0, 5 -> 8.0, 6 -> 1.0, 7 -> 7.0, 8 -> 1.0, 9 -> 10.0, 20 -> 4.0, 21 -> 1.0]     |\n",
      "|gaid:00024b00-918e-47af-a613-e94f626a7ed9|[22 -> 5.0, 23 -> 1.0, 24 -> 1.0, 10 -> 1.0, 11 -> 1.0, 12 -> 2.0, 13 -> 2.0, 14 -> 1.0, 15 -> 2.0, 16 -> 1.0, 17 -> 1.0, 18 -> 1.0, 19 -> 1.0, 0 -> 3.0, 1 -> 1.0, 2 -> 1.0, 3 -> 3.0, 4 -> 2.0, 5 -> 2.0, 6 -> 3.0, 7 -> 1.0, 8 -> 5.0, 9 -> 1.0, 20 -> 2.0, 21 -> 1.0]      |\n",
      "|gaid:0002c04c-f0e4-47ad-9fc7-0250b026aee3|[22 -> 1.0, 23 -> 1.0, 24 -> 1.0, 10 -> 1.0, 11 -> 2.0, 12 -> 1.0, 13 -> 1.0, 14 -> 1.0, 15 -> 1.0, 16 -> 1.0, 17 -> 1.0, 18 -> 1.0, 19 -> 1.0, 0 -> 1.0, 1 -> 1.0, 2 -> 1.0, 3 -> 2.0, 4 -> 1.0, 5 -> 2.0, 6 -> 1.0, 7 -> 4.0, 8 -> 1.0, 9 -> 3.0, 20 -> 3.0, 21 -> 1.0]      |\n",
      "|gaid:0002d263-9d75-483d-8c43-cb5b2ef0420e|[22 -> 1.0, 23 -> 1.0, 24 -> 1.0, 10 -> 1.0, 11 -> 1.0, 12 -> 1.0, 13 -> 1.0, 14 -> 1.0, 15 -> 1.0, 16 -> 1.0, 17 -> 1.0, 18 -> 1.0, 19 -> 1.0, 0 -> 1.0, 1 -> 1.0, 2 -> 1.0, 3 -> 1.0, 4 -> 1.0, 5 -> 1.0, 6 -> 1.0, 7 -> 1.0, 8 -> 1.0, 9 -> 1.0, 20 -> 1.0, 21 -> 1.0]      |\n",
      "|gaid:000359c7-1d26-4225-b78f-c18af5546beb|[22 -> 2.0, 23 -> 1.0, 24 -> 1.0, 10 -> 1.0, 11 -> 3.0, 12 -> 2.0, 13 -> 1.0, 14 -> 1.0, 15 -> 2.0, 16 -> 1.0, 17 -> 1.0, 18 -> 1.0, 19 -> 1.0, 0 -> 1.0, 1 -> 2.0, 2 -> 1.0, 3 -> 1.0, 4 -> 1.0, 5 -> 2.0, 6 -> 1.0, 7 -> 1.0, 8 -> 1.0, 9 -> 1.0, 20 -> 1.0, 21 -> 1.0]      |\n",
      "|gaid:0003a331-6bf5-4e50-85fb-dbd070270a6f|[22 -> 4.0, 23 -> 1.0, 24 -> 1.0, 10 -> 3.0, 11 -> 1.0, 12 -> 1.0, 13 -> 3.0, 14 -> 1.0, 15 -> 7.0, 16 -> 1.0, 17 -> 1.0, 18 -> 1.0, 19 -> 1.0, 0 -> 1.0, 1 -> 2.0, 2 -> 1.0, 3 -> 3.0, 4 -> 1.0, 5 -> 5.0, 6 -> 1.0, 7 -> 2.0, 8 -> 3.0, 9 -> 1.0, 20 -> 1.0, 21 -> 1.0]      |\n",
      "|gaid:00045ce0-9f92-43a5-86ec-29c38013f95c|[22 -> 6.0, 23 -> 1.0, 24 -> 1.0, 10 -> 1.0, 11 -> 5.0, 12 -> 4.0, 13 -> 2.0, 14 -> 1.0, 15 -> 2.0, 16 -> 1.0, 17 -> 1.0, 18 -> 1.0, 19 -> 1.0, 0 -> 2.0, 1 -> 4.0, 2 -> 3.0, 3 -> 6.0, 4 -> 2.0, 5 -> 5.0, 6 -> 1.0, 7 -> 1.0, 8 -> 6.0, 9 -> 1.0, 20 -> 6.0, 21 -> 1.0]      |\n",
      "|gaid:00048c65-fc0d-442d-bf63-99ce424da9a0|[22 -> 7.0, 23 -> 7.0, 24 -> 4.0, 10 -> 6.0, 11 -> 5.0, 12 -> 5.0, 13 -> 3.0, 14 -> 4.0, 15 -> 5.0, 16 -> 4.0, 17 -> 4.0, 18 -> 4.0, 19 -> 4.0, 0 -> 5.0, 1 -> 4.0, 2 -> 2.0, 3 -> 5.0, 4 -> 4.0, 5 -> 4.0, 6 -> 1.0, 7 -> 9.0, 8 -> 3.0, 9 -> 4.0, 20 -> 7.0, 21 -> 4.0]      |\n",
      "|gaid:0005377f-fb62-4b43-9a95-9123b483e3b8|[22 -> 6.0, 23 -> 1.0, 24 -> 1.0, 10 -> 5.0, 11 -> 4.0, 12 -> 3.0, 13 -> 1.0, 14 -> 1.0, 15 -> 4.0, 16 -> 1.0, 17 -> 2.0, 18 -> 1.0, 19 -> 1.0, 0 -> 1.0, 1 -> 5.0, 2 -> 3.0, 3 -> 7.0, 4 -> 2.0, 5 -> 6.0, 6 -> 1.0, 7 -> 5.0, 8 -> 4.0, 9 -> 3.0, 20 -> 2.0, 21 -> 1.0]      |\n",
      "|gaid:0005928b-c52a-42cb-8a34-ab71eb8d8281|[22 -> 8.0, 23 -> 2.0, 24 -> 1.0, 10 -> 5.0, 11 -> 4.0, 12 -> 3.0, 13 -> 3.0, 14 -> 1.0, 15 -> 9.0, 16 -> 1.0, 17 -> 1.0, 18 -> 1.0, 19 -> 1.0, 0 -> 1.0, 1 -> 3.0, 2 -> 3.0, 3 -> 6.0, 4 -> 1.0, 5 -> 8.0, 6 -> 1.0, 7 -> 6.0, 8 -> 1.0, 9 -> 3.0, 20 -> 4.0, 21 -> 1.0]      |\n",
      "|gaid:00059a41-2177-43a0-8f6f-faf37a0edf4e|[22 -> 2.0, 23 -> 1.0, 24 -> 1.0, 10 -> 1.0, 11 -> 5.0, 12 -> 1.0, 13 -> 1.0, 14 -> 1.0, 15 -> 1.0, 16 -> 1.0, 17 -> 1.0, 18 -> 1.0, 19 -> 1.0, 0 -> 1.0, 1 -> 1.0, 2 -> 1.0, 3 -> 1.0, 4 -> 1.0, 5 -> 4.0, 6 -> 1.0, 7 -> 1.0, 8 -> 2.0, 9 -> 1.0, 20 -> 3.0, 21 -> 1.0]      |\n",
      "|gaid:0005a252-54b6-48aa-be05-f143f8c7f43a|[22 -> 1.0, 23 -> 1.0, 24 -> 1.0, 10 -> 1.0, 11 -> 1.0, 12 -> 1.0, 13 -> 1.0, 14 -> 1.0, 15 -> 1.0, 16 -> 1.0, 17 -> 1.0, 18 -> 1.0, 19 -> 1.0, 0 -> 1.0, 1 -> 1.0, 2 -> 1.0, 3 -> 1.0, 4 -> 1.0, 5 -> 2.0, 6 -> 1.0, 7 -> 1.0, 8 -> 1.0, 9 -> 1.0, 20 -> 2.0, 21 -> 1.0]      |\n",
      "+-----------------------------------------+-------------------------------------------------------------------------------------------------------------------------------------------------------------------------------------------------------------------------------------------------------------------------------+\n",
      "only showing top 20 rows\n",
      "\n"
     ]
    }
   ],
   "source": [
    "user_feature.show(truncate=False)"
   ]
  },
  {
   "cell_type": "code",
   "execution_count": 21,
   "metadata": {
    "collapsed": true
   },
   "outputs": [],
   "source": [
    "user_feature_size = user_feature.selectExpr(\"user\", \"feature\", \"size(feature) as size\")"
   ]
  },
  {
   "cell_type": "code",
   "execution_count": 23,
   "metadata": {},
   "outputs": [
    {
     "data": {
      "text/plain": [
       "136449244"
      ]
     },
     "execution_count": 23,
     "metadata": {},
     "output_type": "execute_result"
    }
   ],
   "source": [
    "user_feature_size.where(\"size = 25\").count()"
   ]
  },
  {
   "cell_type": "code",
   "execution_count": 24,
   "metadata": {},
   "outputs": [
    {
     "data": {
      "text/plain": [
       "0"
      ]
     },
     "execution_count": 24,
     "metadata": {},
     "output_type": "execute_result"
    }
   ],
   "source": [
    "user_feature_size.where(\"size < 25\").count()"
   ]
  },
  {
   "cell_type": "code",
   "execution_count": 25,
   "metadata": {},
   "outputs": [
    {
     "data": {
      "text/plain": [
       "0"
      ]
     },
     "execution_count": 25,
     "metadata": {},
     "output_type": "execute_result"
    }
   ],
   "source": [
    "user_feature_size.where(\"size > 25\").count()"
   ]
  },
  {
   "cell_type": "code",
   "execution_count": null,
   "metadata": {
    "collapsed": true
   },
   "outputs": [],
   "source": []
  },
  {
   "cell_type": "code",
   "execution_count": null,
   "metadata": {
    "collapsed": true
   },
   "outputs": [],
   "source": []
  },
  {
   "cell_type": "code",
   "execution_count": null,
   "metadata": {
    "collapsed": true
   },
   "outputs": [],
   "source": []
  },
  {
   "cell_type": "code",
   "execution_count": 54,
   "metadata": {
    "collapsed": true
   },
   "outputs": [
    {
     "name": "stdout",
     "output_type": "stream",
     "text": [
      "+----------------+\n",
      "|CAST(0 AS FLOAT)|\n",
      "+----------------+\n",
      "|             0.0|\n",
      "+----------------+\n",
      "\n"
     ]
    }
   ],
   "source": [
    "spark.sql(\"select cast(0 as float)\").show()"
   ]
  },
  {
   "cell_type": "code",
   "execution_count": 92,
   "metadata": {
    "collapsed": true
   },
   "outputs": [],
   "source": [
    "spark.stop()"
   ]
  },
  {
   "cell_type": "code",
   "execution_count": null,
   "metadata": {
    "collapsed": true
   },
   "outputs": [],
   "source": []
  },
  {
   "cell_type": "code",
   "execution_count": null,
   "metadata": {
    "collapsed": true
   },
   "outputs": [],
   "source": []
  }
 ],
 "metadata": {
  "kernelspec": {
   "display_name": "Python 2",
   "language": "python",
   "name": "python2"
  },
  "language_info": {
   "codemirror_mode": {
    "name": "ipython",
    "version": 2
   },
   "file_extension": ".py",
   "mimetype": "text/x-python",
   "name": "python",
   "nbconvert_exporter": "python",
   "pygments_lexer": "ipython2",
   "version": "2.7.15"
  }
 },
 "nbformat": 4,
 "nbformat_minor": 2
}
